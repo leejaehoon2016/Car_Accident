{
 "cells": [
  {
   "cell_type": "code",
   "execution_count": null,
   "metadata": {},
   "outputs": [],
   "source": [
    "from selenium import webdriver\n",
    "from selenium.webdriver.common.keys import Keys\n",
    "from selenium.webdriver.chrome.options import Options\n",
    "from selenium.webdriver.common.by import By\n",
    "from selenium.webdriver.support.ui import WebDriverWait\n",
    "from selenium.webdriver.support import expected_conditions as EC\n",
    "from bs4 import BeautifulSoup\n",
    "import time\n",
    "import random\n",
    "import re\n",
    "import os\n",
    "import datetime\n",
    "import pandas as pd\n",
    "import numpy as np\n",
    "\n",
    "os.chdir('C:/Users/simjh96/Documents/Car_Accident/data/crawling/GIS')"
   ]
  },
  {
   "cell_type": "code",
   "execution_count": null,
   "metadata": {},
   "outputs": [],
   "source": [
    "import matplotlib.pyplot as plt\n",
    "%matplotlib inline"
   ]
  },
  {
   "cell_type": "code",
   "execution_count": null,
   "metadata": {},
   "outputs": [],
   "source": [
    "def _get_chromebrowser():\n",
    "    print(\"시스템>>> 현재 디렉토리: {}\".format(os.getcwd()))\n",
    "    print(\"시스템>>> 디렉토리가 맞다면(Y) 아니면(N): \")\n",
    "    inp = input()\n",
    "    if inp == 'N':\n",
    "        print(\"시스템>>> 크롬드라이버가 있는 위치 입력...\")\n",
    "        os.chdir(input())\n",
    "    browser = webdriver.Chrome(\"./chromedriver.exe\")\n",
    "    #self 로 바꿔 arg 에도 넣고\n",
    "    print(\"시스템>>> 크롬드라이버를 실행 합니다...\")\n",
    "    return browser"
   ]
  },
  {
   "cell_type": "code",
   "execution_count": null,
   "metadata": {},
   "outputs": [],
   "source": [
    "#in page\n",
    "browser = _get_chromebrowser()\n",
    "browser.get('http://taas.koroad.or.kr/gis/mcm/mcl/initMap.do?menuId=GIS_GMP_STS_RSN')\n"
   ]
  },
  {
   "cell_type": "code",
   "execution_count": null,
   "metadata": {},
   "outputs": [],
   "source": [
    "#경기도 오산시 어린이 사고 수동 설정 후 실행\n",
    "browser.find_element_by_link_text('검색').click()\n",
    "time.sleep(5)"
   ]
  },
  {
   "cell_type": "code",
   "execution_count": null,
   "metadata": {},
   "outputs": [],
   "source": [
    "\n",
    "\n",
    "#totalcount\n",
    "print('시스템>>> total count를 셉니다...')\n",
    "soup = BeautifulSoup(browser.page_source, \"lxml\")\n",
    "tot = soup.find(attrs='total-count')\n",
    "tot = int(re.findall(r'[0-9]+',tot.text)[0])\n",
    "print('시스템>>> 총 {}건을 검색합니다'.format(tot))\n",
    "\n",
    "#저장될 cords\n",
    "cords = []\n",
    "    \n",
    "#1계층\n",
    "#페이지 넘어가게 loop로 묶어\n",
    "for i in range(tot//10 + 1):\n",
    "    print('시스템>>> {} 페이지로 넘어갑니다.'.format(str(i+1)))   \n",
    "    browser.find_element_by_partial_link_text('{}'.format(str(i+1))).click()    \n",
    "    \n",
    "    #2계층\n",
    "    # 10 건별 클릭\n",
    "    elms = browser.find_elements_by_class_name('iStyle')\n",
    "    for j in range(len(elms)):\n",
    "        time.sleep(np.random.uniform(0.5,1))\n",
    "        print('시스템>>> {}번째 건을 추출합니다...'.format(j+1))\n",
    "        elms[j].click()\n",
    "        WebDriverWait(browser, 5).until(EC.presence_of_element_located((By.CLASS_NAME, 'pop-headerN')))\n",
    "        \n",
    "        #BBOX 추출\n",
    "        #수정필요>>>첫 BBOX 가 검색전 메인 화면 좌표가 나와서 좌표가 한칸씩 밀림\n",
    "        print('시스템>>> BBOX 좌표를 구합니다...')\n",
    "        soup = BeautifulSoup(browser.page_source, \"lxml\")\n",
    "        imgs = soup.find_all(attrs='olTileImage')\n",
    "        for img in imgs:\n",
    "            if ('BBOX' in img['src']):\n",
    "                full_cord = re.findall(r'BBOX=[0-9.,]*&',img['src'])[0][5:-1]\n",
    "                cord_list = re.findall('[0-9]+.[0-9]+',full_cord)\n",
    "                cords.append(((float(cord_list[0])+float(cord_list[2]))/2, \n",
    "                              (float(cord_list[1])+float(cord_list[3]))/2,\n",
    "                              soup.find(attrs='td1').text))\n",
    "                break\n",
    "\n",
    "cords_df = pd.DataFrame(cords)\n",
    "with open(\"{}.csv\".format(datetime.datetime.now().strftime('%Y_%m_%d_%H_%M')), \"w\", encoding=\"utf8\") as f:\n",
    "    f.write(cords_df.to_csv())\n",
    "\n",
    "print('시스템>>> 모든 수집을 완료했습니다!')"
   ]
  },
  {
   "cell_type": "code",
   "execution_count": null,
   "metadata": {},
   "outputs": [],
   "source": [
    "#merge all\n",
    "cords_df = pd.read_csv('2017-2019.csv')\n",
    "cords_df = cords_df.dropna()\n",
    "cords_df.index = range(len(cords_df))\n",
    "cords_df = cords_df.loc[:,('0','1')]\n",
    "cords_df.columns = ['x','y']\n",
    "\n",
    "b_df = pd.read_csv('2017-2019_b.csv')\n",
    "\n",
    "df = pd.concat((b_df,cords_df),axis=1)\n",
    "#=========================================\n",
    "cords_df = pd.read_csv('2014-2016.csv')\n",
    "cords_df = cords_df.dropna()\n",
    "cords_df.index = range(len(cords_df))\n",
    "cords_df = cords_df.loc[:,('0','1')]\n",
    "cords_df.columns = ['x','y']\n",
    "\n",
    "b_df = pd.read_csv('2014-2016_b.csv')\n",
    "\n",
    "df = pd.concat((df,pd.concat((b_df,cords_df),axis=1)))\n",
    "\n",
    "cords_df = pd.read_csv('2011-2013.csv')\n",
    "cords_df = cords_df.dropna()\n",
    "cords_df.index = range(len(cords_df))\n",
    "cords_df = cords_df.loc[:,('0','1')]\n",
    "cords_df.columns = ['x','y']\n",
    "\n",
    "b_df = pd.read_csv('2011-2013_b.csv')\n",
    "\n",
    "df = pd.concat((df,pd.concat((b_df,cords_df),axis=1)))\n",
    "\n",
    "cords_df = pd.read_csv('2008-2010.csv')\n",
    "cords_df = cords_df.dropna()\n",
    "cords_df.index = range(len(cords_df))\n",
    "cords_df = cords_df.loc[:,('0','1')]\n",
    "cords_df.columns = ['x','y']\n",
    "\n",
    "b_df = pd.read_csv('2008-2010_b.csv')\n",
    "\n",
    "df = pd.concat((df,pd.concat((b_df,cords_df),axis=1)))\n",
    "\n",
    "cords_df = pd.read_csv('2007.csv')\n",
    "cords_df = cords_df.dropna()\n",
    "cords_df.index = range(len(cords_df))\n",
    "cords_df = cords_df.loc[:,('0','1')]\n",
    "cords_df.columns = ['x','y']\n",
    "\n",
    "b_df = pd.read_csv('2007_b.csv')\n",
    "\n",
    "df = pd.concat((df,pd.concat((b_df,cords_df),axis=1)))\n",
    "\n",
    "\n",
    "with open(\"{}_concated.csv\".format(datetime.datetime.now().strftime('%Y_%m_%d_%H_%M')), \"w\", encoding=\"utf8\") as f:\n",
    "    f.write(df.to_csv())"
   ]
  },
  {
   "cell_type": "code",
   "execution_count": null,
   "metadata": {},
   "outputs": [],
   "source": []
  },
  {
   "cell_type": "code",
   "execution_count": null,
   "metadata": {},
   "outputs": [],
   "source": []
  },
  {
   "cell_type": "code",
   "execution_count": null,
   "metadata": {},
   "outputs": [],
   "source": []
  }
 ],
 "metadata": {
  "kernelspec": {
   "display_name": "Python 3",
   "language": "python",
   "name": "python3"
  },
  "language_info": {
   "codemirror_mode": {
    "name": "ipython",
    "version": 3
   },
   "file_extension": ".py",
   "mimetype": "text/x-python",
   "name": "python",
   "nbconvert_exporter": "python",
   "pygments_lexer": "ipython3",
   "version": "3.8.5"
  }
 },
 "nbformat": 4,
 "nbformat_minor": 4
}
