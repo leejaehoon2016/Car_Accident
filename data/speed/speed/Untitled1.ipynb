{
 "cells": [
  {
   "cell_type": "code",
   "execution_count": 1,
   "id": "falling-spanking",
   "metadata": {},
   "outputs": [],
   "source": [
    "import geopandas as gpd\n",
    "import numpy as np\n",
    "import pandas as pd\n",
    "import os"
   ]
  },
  {
   "cell_type": "code",
   "execution_count": 5,
   "id": "missing-afghanistan",
   "metadata": {},
   "outputs": [
    {
     "data": {
      "text/plain": [
       "'C:\\\\Users\\\\simjh96\\\\OneDrive\\\\문서\\\\Car_Accident\\\\data\\\\speed'"
      ]
     },
     "execution_count": 5,
     "metadata": {},
     "output_type": "execute_result"
    }
   ],
   "source": [
    "os.getcwd()"
   ]
  },
  {
   "cell_type": "code",
   "execution_count": null,
   "id": "surrounded-absorption",
   "metadata": {},
   "outputs": [],
   "source": [
    "road_gdf = gpd.read_file('23.오산시_상세도로망_LV6.geojson')\n",
    "speeds = pd.read_excel('2018년_평균속도_경기도 오산시_주요도로망Level5.5_도로단위_중복제거2.xlsx') \n",
    "six_to_its = pd.read_csv(\"2017년_상세도로망Level6과 ITS도로망, 주요도로망level5.5_매칭테이블.csv\")\n",
    "road_gdf.link_id = road_gdf.link_id.apply(int)\n",
    "\n",
    "with_its = pd.merge(road_gdf, six_to_its,how='left',left_on='link_id', right_on='level6_linkID')\n",
    "with_55 = with_its.loc[~np.isnan(with_its.loc[:,'level5.5_linkID'])]\n",
    "with_55 = pd.merge(with_55, speeds,how='left',left_on='level5.5_linkID', right_on='level5.5_linkID')\n",
    "final = with_55.loc[:, ['link_id','week_type','velocity_AVRG']].drop_duplicates()\n",
    "final.index = range(len(final.index))\n",
    "final"
   ]
  }
 ],
 "metadata": {
  "kernelspec": {
   "display_name": "Python [conda env:trial2] *",
   "language": "python",
   "name": "conda-env-trial2-py"
  },
  "language_info": {
   "codemirror_mode": {
    "name": "ipython",
    "version": 3
   },
   "file_extension": ".py",
   "mimetype": "text/x-python",
   "name": "python",
   "nbconvert_exporter": "python",
   "pygments_lexer": "ipython3",
   "version": "3.8.5"
  }
 },
 "nbformat": 4,
 "nbformat_minor": 5
}
