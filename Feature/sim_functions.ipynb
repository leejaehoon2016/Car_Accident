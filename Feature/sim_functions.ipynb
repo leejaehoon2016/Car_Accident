{
  "nbformat": 4,
  "nbformat_minor": 0,
  "metadata": {
    "colab": {
      "name": "Untitled7.ipynb",
      "provenance": []
    },
    "kernelspec": {
      "name": "python3",
      "display_name": "Python 3"
    }
  },
  "cells": [
    {
      "cell_type": "code",
      "metadata": {
        "id": "CDdaCdXts49f"
      },
      "source": [
        ""
      ],
      "execution_count": null,
      "outputs": []
    },
    {
      "cell_type": "code",
      "metadata": {
        "id": "PpNkNIMLtsJt"
      },
      "source": [
        ""
      ],
      "execution_count": null,
      "outputs": []
    },
    {
      "cell_type": "markdown",
      "metadata": {
        "id": "omPGCW6qtx4C"
      },
      "source": [
        "### accident_count"
      ]
    },
    {
      "cell_type": "code",
      "metadata": {
        "id": "XBo6YJ0vbktK",
        "colab": {
          "base_uri": "https://localhost:8080/"
        },
        "outputId": "5aeacc29-6a17-4001-fc85-cf7f73b85d2d"
      },
      "source": [
        "!pip install geopy"
      ],
      "execution_count": null,
      "outputs": [
        {
          "output_type": "stream",
          "text": [
            "Requirement already satisfied: geopy in /usr/local/lib/python3.6/dist-packages (1.17.0)\n",
            "Requirement already satisfied: geographiclib<2,>=1.49 in /usr/local/lib/python3.6/dist-packages (from geopy) (1.50)\n"
          ],
          "name": "stdout"
        }
      ]
    },
    {
      "cell_type": "code",
      "metadata": {
        "id": "4WJ_wXP4epfj"
      },
      "source": [
        "from geopy.distance import geodesic\r\n",
        "\r\n",
        "def accident_count(lat, lon, radi, data, idx=False):\r\n",
        "  \"\"\"\r\n",
        "  input: origin lat lon, radi(km), data(accidents record)\r\n",
        "  output: following point count\r\n",
        "  optional: (idx of point, count)\r\n",
        "  \"\"\"\r\n",
        "  \r\n",
        "  # #data import\r\n",
        "  # crawled_df = pd.read_csv('2021_01_12_03_44_final.csv')\r\n",
        "  # crawled_df['geometry'] = list(zip(crawled_df.iloc[:,-2],crawled_df.iloc[:,-1]))\r\n",
        "  crawled_df = data\r\n",
        "\r\n",
        "  #apply\r\n",
        "  bool_mask = crawled_df['geometry'].apply(lambda x: geodesic((lat, lon),x).km <= radi)\r\n",
        "  if idx:\r\n",
        "    return crawled_df[bool_mask].index, sum(bool_mask)\r\n",
        "  else:\r\n",
        "    return sum(bool_mask)\r\n",
        "\r\n",
        "# accident_count(crawled_df['geometry'].loc[111][0],crawled_df['geometry'].loc[111][1],0.05,True)\r\n",
        "# #(Int64Index([111, 246], dtype='int64'), 2)"
      ],
      "execution_count": null,
      "outputs": []
    },
    {
      "cell_type": "code",
      "metadata": {
        "id": "1rGv0kvOuCj8"
      },
      "source": [
        ""
      ],
      "execution_count": null,
      "outputs": []
    },
    {
      "cell_type": "markdown",
      "metadata": {
        "id": "qvUYzzY_uC12"
      },
      "source": [
        "###road_nearby"
      ]
    },
    {
      "cell_type": "code",
      "metadata": {
        "id": "F93A8hdfsah4"
      },
      "source": [
        "#interrial functions to use\r\n",
        "from geopy.distance import great_circle as distance\r\n",
        "from geopy.point import Point as Point\r\n",
        "from math import sin, cos, atan2, sqrt, degrees, radians, pi\r\n",
        "\r\n",
        "\r\n",
        "def midpoint(a, b):\r\n",
        "    a_lat, a_lon = radians(a.latitude), radians(a.longitude)\r\n",
        "    b_lat, b_lon = radians(b.latitude), radians(b.longitude)\r\n",
        "    delta_lon = b_lon - a_lon\r\n",
        "    B_x = cos(b_lat) * cos(delta_lon)\r\n",
        "    B_y = cos(b_lat) * sin(delta_lon)\r\n",
        "    mid_lat = atan2(\r\n",
        "        sin(a_lat) + sin(b_lat),\r\n",
        "        sqrt(((cos(a_lat) + B_x) ** 2 + B_y ** 2))\r\n",
        "    )\r\n",
        "    mid_lon = a_lon + atan2(B_y, cos(a_lat) + B_x)\r\n",
        "    # Normalise\r\n",
        "    mid_lon = (mid_lon + 3 * pi) % (2 * pi) - pi\r\n",
        "\r\n",
        "    return Point(latitude=degrees(mid_lat), longitude=degrees(mid_lon))\r\n",
        "\r\n",
        "def get_line_midpoint(line):\r\n",
        "    a = Point(line[0])\r\n",
        "    b = Point(line[1])\r\n",
        "\r\n",
        "    return midpoint(a,b)\r\n",
        "\r\n",
        "\r\n",
        "def calculate_dist_to_line(line_a_lat, line_a_lng, line_b_lat, line_b_lng, point_object):\r\n",
        "    a = Point(latitude=line_a_lat, longitude=line_a_lng)\r\n",
        "    b = Point(latitude=line_b_lat, longitude=line_b_lng)\r\n",
        "    dist = distance(midpoint(a, b), point_object)\r\n",
        "    return dist\r\n",
        "\r\n",
        "\r\n",
        "def get_min_distance_to_arr(arr_coords, point_object, unit='m'):\r\n",
        "    min_dist = 999999\r\n",
        "    line=[]\r\n",
        "    for i, _ in enumerate(arr_coords):\r\n",
        "        if i + 1 < len(arr_coords):\r\n",
        "            dist = calculate_dist_to_line(\r\n",
        "                line_a_lat=arr_coords[i][1],\r\n",
        "                line_a_lng=arr_coords[i][0],\r\n",
        "                line_b_lat=arr_coords[i + 1][1],\r\n",
        "                line_b_lng=arr_coords[i + 1][0],\r\n",
        "                point_object=point_object\r\n",
        "            )\r\n",
        "            if dist < min_dist:\r\n",
        "                min_dist = dist\r\n",
        "                line = [(arr_coords[i][1], arr_coords[i][0]), (arr_coords[i + 1][1], arr_coords[i + 1][0])]\r\n",
        "        else:\r\n",
        "            dist = calculate_dist_to_line(\r\n",
        "                line_a_lat=arr_coords[i][1],\r\n",
        "                line_a_lng=arr_coords[i][0],\r\n",
        "                line_b_lat=arr_coords[0][1],\r\n",
        "                line_b_lng=arr_coords[0][0],\r\n",
        "                point_object=point_object\r\n",
        "            )\r\n",
        "            if dist < min_dist:\r\n",
        "                min_dist = dist\r\n",
        "                line = [(arr_coords[i][1], arr_coords[i][0]), (arr_coords[0][1], arr_coords[0][0])]\r\n",
        "\r\n",
        "    if unit == 'm':\r\n",
        "        return min_dist.m, line\r\n",
        "    elif unit == 'km':\r\n",
        "        return min_dist.km, line\r\n",
        "    else:\r\n",
        "        return min_dist, line\r\n"
      ],
      "execution_count": null,
      "outputs": []
    },
    {
      "cell_type": "code",
      "metadata": {
        "id": "gHheOmCCsbF4"
      },
      "source": [
        "#additional interrial function\r\n",
        "def _multiline_to_arr_cords(mls):\r\n",
        "  \"\"\"\r\n",
        "  input: multilinestring object\r\n",
        "  output: arr_cords; lon, lat\r\n",
        "  ex) multiline_to_arr_cords(road_gdf.loc[0].geometry)\r\n",
        "  \"\"\"\r\n",
        "  arr_cords = []\r\n",
        "  lon_lat = re.findall(r'\\d+\\.\\d+',str(mls))\r\n",
        "  for i in range(0,len(lon_lat),2):\r\n",
        "    arr_cords.append((float(lon_lat[i]),float(lon_lat[i+1])))\r\n",
        "  return arr_cords\r\n",
        "\r\n",
        "#(lat, lon), (lon, lat) 자꾸 갈려서 나오네\r\n",
        "def _shPoint_to_list(shpoint):\r\n",
        "  c1, c2 = re.findall(r'\\d+\\.\\d+',str(shpoint))\r\n",
        "  if c1 < c2:\r\n",
        "    lon, lat = float(c1), float(c2)\r\n",
        "  else:\r\n",
        "    lat, lon = float(c1), float(c2)\r\n",
        "  return lat, lon\r\n",
        "\r\n",
        "def _list_to_gpPoint(mylist):\r\n",
        "  return Point(latitude=mylist[0], longitude=mylist[1])\r\n",
        "\r\n",
        "def _shPoint_to_gpPoint(shpoint):\r\n",
        "  mylist = _shPoint_to_list(shpoint)\r\n",
        "  return Point(latitude=mylist[0], longitude=mylist[1])"
      ],
      "execution_count": null,
      "outputs": []
    },
    {
      "cell_type": "code",
      "metadata": {
        "id": "xjY4Dtn8fDUB"
      },
      "source": [
        "#from https://medium.com/analytics-vidhya/calculating-distances-from-points-to-polygon-borders-in-python-a-paris-example-3b597e1ea291\r\n",
        "\r\n",
        "def road_nearby(lat, lon, radi, data):\r\n",
        "  \"\"\"\r\n",
        "  input: origin lat lon, radi(km), data(shapely multilinestring)\r\n",
        "  change in type: shapely(Euclidian) -> list -> geopy(Great Circle)\r\n",
        "  #watchout for (lat lon), (lon lat)\r\n",
        "  output: following roads\r\n",
        "  \r\n",
        "  #test_set\r\n",
        "  lat, lon = (37.14875860564099, 127.0773701360968)\r\n",
        "  radi = 1\r\n",
        "  road_nearby(lat, lon, radi, road_gdf)\r\n",
        "  \"\"\"\r\n",
        "  road_gdf = data\r\n",
        "  dist_array = road_gdf.geometry.apply(lambda x: get_min_distance_to_arr(_multiline_to_arr_cords(x), _shPoint_to_gpPoint((lat, lon)), unit='m')[0]/1000)\r\n",
        "  return road_gdf.loc[dist_array < radi,:]\r\n",
        "  \r\n"
      ],
      "execution_count": null,
      "outputs": []
    },
    {
      "cell_type": "code",
      "metadata": {
        "colab": {
          "base_uri": "https://localhost:8080/"
        },
        "id": "MJDlyT_OtmM9",
        "outputId": "a659ec8c-506c-48f5-ae46-01cbb09a97ed"
      },
      "source": [
        "# #Euclidian distance 쓰려면\r\n",
        "\r\n",
        "# from shapely.geometry import shape\r\n",
        "# import fiona\r\n",
        "\r\n",
        "# p111 = shape({'type': 'Point', 'coordinates': crawled_df.loc[111].geometry})\r\n",
        "# p222 = shape({'type': 'Point', 'coordinates': crawled_df.loc[222].geometry})\r\n",
        "# p333 = shape({'type': 'Point', 'coordinates': crawled_df.loc[333].geometry})\r\n",
        "\r\n",
        "# road1 = road_gdf.loc[0].geometry\r\n",
        "# road1.distance(p111)"
      ],
      "execution_count": null,
      "outputs": [
        {
          "output_type": "execute_result",
          "data": {
            "text/plain": [
              "127.1039010288019"
            ]
          },
          "metadata": {
            "tags": []
          },
          "execution_count": 29
        }
      ]
    },
    {
      "cell_type": "code",
      "metadata": {
        "id": "BpNkfQLwbG8U"
      },
      "source": [
        ""
      ],
      "execution_count": null,
      "outputs": []
    },
    {
      "cell_type": "code",
      "metadata": {
        "id": "_2WZX7dVa4_c"
      },
      "source": [
        ""
      ],
      "execution_count": null,
      "outputs": []
    },
    {
      "cell_type": "markdown",
      "metadata": {
        "id": "5zW_JH6BcYmM"
      },
      "source": [
        "###chaos1, width_nearby, cross_road_nearby"
      ]
    },
    {
      "cell_type": "code",
      "metadata": {
        "id": "PNyDtORukPbY"
      },
      "source": [
        "def chaos1_nearby(lat, lon, radi, road_data, chaos1_data):\r\n",
        "  \"\"\"\r\n",
        "  input: origin lat lon, radi(km), road_data(shapely multilinestring), chaos1_data\r\n",
        "  output: following road's chaos1 by different times or lanes\r\n",
        "  \r\n",
        "  #test_set\r\n",
        "  lat, lon = (37.14875860564099, 127.0773701360968)\r\n",
        "  radi = 1\r\n",
        "  chaos1_nearby(lat, lon, radi, road_gdf, chaos1_gdf)[11]\r\n",
        "  #link_id 끝자리 01 02 순으로 나옴\r\n",
        "  \"\"\"\r\n",
        "  roads = road_nearby(lat, lon, radi, road_data)\r\n",
        "  result = roads.link_id.apply(lambda x: chaos1_data.loc[(chaos1_data.loc[:,'link_id']//100)==int(x),['time_range','work/weekend','chaos1']])\r\n",
        "  return result\r\n",
        "\r\n",
        "def width_nearby(lat, lon, radi, road_data):\r\n",
        "  roads = road_nearby(lat, lon, radi, road_data)\r\n",
        "  return roads.width\r\n",
        "\r\n",
        "def cross_road_nearby(lat, lon, radi, road_data):\r\n",
        "  \"\"\"\r\n",
        "  4\t교차로 통로\r\n",
        "  32\t복합교차로\r\n",
        "  64\t로타리\r\n",
        "  128\t회전교차로\r\n",
        "\r\n",
        "  output = # of cross roads\r\n",
        "  \"\"\"\r\n",
        "  cross_roads = [4,32,64,128]\r\n",
        "  roads = road_nearby(lat, lon, radi, road_data)\r\n",
        "  result = roads.loc[roads.link_type.apply(lambda x: int(x) in cross_roads)]\r\n",
        "  return len(result)"
      ],
      "execution_count": null,
      "outputs": []
    }
  ]
}