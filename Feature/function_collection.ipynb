{
 "cells": [
  {
   "cell_type": "markdown",
<<<<<<< HEAD
   "id": "least-bulgarian",
=======
>>>>>>> 67fd30a935ab3e6fb89981a08a9868b45e95bd0a
   "metadata": {},
   "source": [
    "## data integration"
   ]
  },
  {
   "cell_type": "code",
   "execution_count": 1,
<<<<<<< HEAD
   "id": "vulnerable-anthony",
   "metadata": {},
=======
   "metadata": {
    "ExecuteTime": {
     "end_time": "2021-01-16T13:00:57.948167Z",
     "start_time": "2021-01-16T13:00:56.597551Z"
    }
   },
>>>>>>> 67fd30a935ab3e6fb89981a08a9868b45e95bd0a
   "outputs": [],
   "source": [
    "import warnings\n",
    "warnings.filterwarnings(action='ignore')\n",
    "from functools import partial\n",
    "from shapely import ops\n",
    "import pyproj\n",
    "import json, math\n",
    "import matplotlib.pyplot as plt\n",
    "from folium import plugins\n",
    "import re\n",
    "\n",
    "from matplotlib import font_manager, rc, rcParams\n",
    "# def set_korea_font():\n",
    "#     font_name = font_manager.FontProperties(fname=\"/System/Library/Fonts/Supplemental/AppleGothic.ttf\").get_name()\n",
    "#     rc('font', family=font_name)\n",
    "#     rcParams.update({'font.size': 11})\n",
    "#     rcParams['axes.unicode_minus'] = False  \n",
    "# set_korea_font()\n",
    "\n",
    "from geopy.distance import great_circle as distance\n",
    "from geopy.point import Point as Point\n",
    "from math import sin, cos, atan2, sqrt, degrees, radians, pi\n",
    "\n",
    "from geopy.distance import geodesic\n",
    "import folium\n",
    "from folium import plugins\n",
    "import geopandas as gpd\n",
    "import numpy as np\n",
    "import pandas as pd\n",
    "import shapely\n",
    "import os\n",
    "import datetime\n",
    "\n",
    "#reproject import 필요\n",
    "\n",
    "os.chdir('./osan/data')"
   ]
  },
  {
   "cell_type": "markdown",
<<<<<<< HEAD
   "id": "australian-stack",
=======
>>>>>>> 67fd30a935ab3e6fb89981a08a9868b45e95bd0a
   "metadata": {},
   "source": [
    "### 홍익선\n",
    "1. 과속단속 카메라 개수\n",
    "2. 유동인구 평균\n",
    "3. 법규위반\n",
    "4. 과속방지턱\n",
    "5. 불법주정차\n",
    "    - cctv 1개당 평균 불법주정차 단속 건수\n",
    "    \n",
    "### 조민주\n",
    "1. 차량등록현황\n",
    "2. 어린이 거주인구\n",
    "\t- 어린이 거주 비율\n",
    "3. 주변 학교/어린이집 개수\n",
    "4. 스쿨존 여부\n",
    "5. 스쿨존 중복 포함 개수\n",
    "\n",
    "### 심재훈\n",
    "1. 사고 개수\n",
    "2. 혼잡빈도\n",
    "3. 너비\n",
    "4. 교차로\n",
    "\n",
    "### 이재훈\n",
    "1. 학원 개수\n",
    "2. 횡단보도 갯수\n",
    "3. 신호등 갯수\n",
    "4. 인도 여부"
   ]
  },
  {
   "cell_type": "markdown",
<<<<<<< HEAD
   "id": "intensive-latex",
=======
>>>>>>> 67fd30a935ab3e6fb89981a08a9868b45e95bd0a
   "metadata": {},
   "source": [
    "### data import"
   ]
  },
  {
   "cell_type": "code",
<<<<<<< HEAD
   "execution_count": 128,
   "id": "decent-ocean",
   "metadata": {},
   "outputs": [],
=======
   "execution_count": 5,
   "metadata": {
    "ExecuteTime": {
     "end_time": "2021-01-16T13:01:52.441695Z",
     "start_time": "2021-01-16T13:01:52.030783Z"
    }
   },
   "outputs": [
    {
     "ename": "DriverError",
     "evalue": "data/child_count.geojson: No such file or directory",
     "output_type": "error",
     "traceback": [
      "\u001b[1;31m---------------------------------------------------------------------------\u001b[0m",
      "\u001b[1;31mCPLE_OpenFailedError\u001b[0m                      Traceback (most recent call last)",
      "\u001b[1;32mfiona/_shim.pyx\u001b[0m in \u001b[0;36mfiona._shim.gdal_open_vector\u001b[1;34m()\u001b[0m\n",
      "\u001b[1;32mfiona/_err.pyx\u001b[0m in \u001b[0;36mfiona._err.exc_wrap_pointer\u001b[1;34m()\u001b[0m\n",
      "\u001b[1;31mCPLE_OpenFailedError\u001b[0m: data/child_count.geojson: No such file or directory",
      "\nDuring handling of the above exception, another exception occurred:\n",
      "\u001b[1;31mDriverError\u001b[0m                               Traceback (most recent call last)",
      "\u001b[1;32m<ipython-input-5-c4097c4b863e>\u001b[0m in \u001b[0;36m<module>\u001b[1;34m\u001b[0m\n\u001b[0;32m     11\u001b[0m \u001b[1;31m#조민주\u001b[0m\u001b[1;33m\u001b[0m\u001b[1;33m\u001b[0m\u001b[1;33m\u001b[0m\u001b[0m\n\u001b[0;32m     12\u001b[0m \u001b[0mcar_count_\u001b[0m \u001b[1;33m=\u001b[0m \u001b[0mgpd\u001b[0m\u001b[1;33m.\u001b[0m\u001b[0mread_file\u001b[0m\u001b[1;33m(\u001b[0m\u001b[1;34m\"../data/original/3.오산시_차량등록현황_격자.geojson\"\u001b[0m\u001b[1;33m,\u001b[0m \u001b[0mencoding\u001b[0m \u001b[1;33m=\u001b[0m \u001b[1;34m\"utf-8\"\u001b[0m\u001b[1;33m)\u001b[0m\u001b[1;33m\u001b[0m\u001b[1;33m\u001b[0m\u001b[0m\n\u001b[1;32m---> 13\u001b[1;33m \u001b[0mchild_count_\u001b[0m \u001b[1;33m=\u001b[0m \u001b[0mgpd\u001b[0m\u001b[1;33m.\u001b[0m\u001b[0mread_file\u001b[0m\u001b[1;33m(\u001b[0m\u001b[1;34m\"data/child_count.geojson\"\u001b[0m\u001b[1;33m,\u001b[0m \u001b[0mencoding\u001b[0m \u001b[1;33m=\u001b[0m \u001b[1;34m\"utf-8\"\u001b[0m\u001b[1;33m)\u001b[0m\u001b[1;33m\u001b[0m\u001b[1;33m\u001b[0m\u001b[0m\n\u001b[0m\u001b[0;32m     14\u001b[0m \u001b[0mchild_rate_count_\u001b[0m \u001b[1;33m=\u001b[0m \u001b[0mgpd\u001b[0m\u001b[1;33m.\u001b[0m\u001b[0mread_file\u001b[0m\u001b[1;33m(\u001b[0m\u001b[1;34m\"child_rate.geojson\"\u001b[0m\u001b[1;33m,\u001b[0m \u001b[0mencoding\u001b[0m \u001b[1;33m=\u001b[0m \u001b[1;34m\"utf-8\"\u001b[0m\u001b[1;33m)\u001b[0m\u001b[1;33m\u001b[0m\u001b[1;33m\u001b[0m\u001b[0m\n\u001b[0;32m     15\u001b[0m \u001b[0melem_kinder_count_\u001b[0m \u001b[1;33m=\u001b[0m \u001b[0mgpd\u001b[0m\u001b[1;33m.\u001b[0m\u001b[0mread_file\u001b[0m\u001b[1;33m(\u001b[0m\u001b[1;34m\"elem_kinder_count.csv\"\u001b[0m\u001b[1;33m,\u001b[0m \u001b[0mencoding\u001b[0m \u001b[1;33m=\u001b[0m \u001b[1;34m\"utf-8\"\u001b[0m\u001b[1;33m)\u001b[0m\u001b[1;33m\u001b[0m\u001b[1;33m\u001b[0m\u001b[0m\n",
      "\u001b[1;32mc:\\users\\ljw56\\anaconda3\\envs\\geo\\lib\\site-packages\\geopandas\\io\\file.py\u001b[0m in \u001b[0;36m_read_file\u001b[1;34m(filename, bbox, mask, rows, **kwargs)\u001b[0m\n\u001b[0;32m     94\u001b[0m \u001b[1;33m\u001b[0m\u001b[0m\n\u001b[0;32m     95\u001b[0m     \u001b[1;32mwith\u001b[0m \u001b[0mfiona_env\u001b[0m\u001b[1;33m(\u001b[0m\u001b[1;33m)\u001b[0m\u001b[1;33m:\u001b[0m\u001b[1;33m\u001b[0m\u001b[1;33m\u001b[0m\u001b[0m\n\u001b[1;32m---> 96\u001b[1;33m         \u001b[1;32mwith\u001b[0m \u001b[0mreader\u001b[0m\u001b[1;33m(\u001b[0m\u001b[0mpath_or_bytes\u001b[0m\u001b[1;33m,\u001b[0m \u001b[1;33m**\u001b[0m\u001b[0mkwargs\u001b[0m\u001b[1;33m)\u001b[0m \u001b[1;32mas\u001b[0m \u001b[0mfeatures\u001b[0m\u001b[1;33m:\u001b[0m\u001b[1;33m\u001b[0m\u001b[1;33m\u001b[0m\u001b[0m\n\u001b[0m\u001b[0;32m     97\u001b[0m \u001b[1;33m\u001b[0m\u001b[0m\n\u001b[0;32m     98\u001b[0m             \u001b[1;31m# In a future Fiona release the crs attribute of features will\u001b[0m\u001b[1;33m\u001b[0m\u001b[1;33m\u001b[0m\u001b[1;33m\u001b[0m\u001b[0m\n",
      "\u001b[1;32mc:\\users\\ljw56\\anaconda3\\envs\\geo\\lib\\site-packages\\fiona\\env.py\u001b[0m in \u001b[0;36mwrapper\u001b[1;34m(*args, **kwargs)\u001b[0m\n\u001b[0;32m    398\u001b[0m     \u001b[1;32mdef\u001b[0m \u001b[0mwrapper\u001b[0m\u001b[1;33m(\u001b[0m\u001b[1;33m*\u001b[0m\u001b[0margs\u001b[0m\u001b[1;33m,\u001b[0m \u001b[1;33m**\u001b[0m\u001b[0mkwargs\u001b[0m\u001b[1;33m)\u001b[0m\u001b[1;33m:\u001b[0m\u001b[1;33m\u001b[0m\u001b[1;33m\u001b[0m\u001b[0m\n\u001b[0;32m    399\u001b[0m         \u001b[1;32mif\u001b[0m \u001b[0mlocal\u001b[0m\u001b[1;33m.\u001b[0m\u001b[0m_env\u001b[0m\u001b[1;33m:\u001b[0m\u001b[1;33m\u001b[0m\u001b[1;33m\u001b[0m\u001b[0m\n\u001b[1;32m--> 400\u001b[1;33m             \u001b[1;32mreturn\u001b[0m \u001b[0mf\u001b[0m\u001b[1;33m(\u001b[0m\u001b[1;33m*\u001b[0m\u001b[0margs\u001b[0m\u001b[1;33m,\u001b[0m \u001b[1;33m**\u001b[0m\u001b[0mkwargs\u001b[0m\u001b[1;33m)\u001b[0m\u001b[1;33m\u001b[0m\u001b[1;33m\u001b[0m\u001b[0m\n\u001b[0m\u001b[0;32m    401\u001b[0m         \u001b[1;32melse\u001b[0m\u001b[1;33m:\u001b[0m\u001b[1;33m\u001b[0m\u001b[1;33m\u001b[0m\u001b[0m\n\u001b[0;32m    402\u001b[0m             \u001b[1;32mif\u001b[0m \u001b[0misinstance\u001b[0m\u001b[1;33m(\u001b[0m\u001b[0margs\u001b[0m\u001b[1;33m[\u001b[0m\u001b[1;36m0\u001b[0m\u001b[1;33m]\u001b[0m\u001b[1;33m,\u001b[0m \u001b[0mstr\u001b[0m\u001b[1;33m)\u001b[0m\u001b[1;33m:\u001b[0m\u001b[1;33m\u001b[0m\u001b[1;33m\u001b[0m\u001b[0m\n",
      "\u001b[1;32mc:\\users\\ljw56\\anaconda3\\envs\\geo\\lib\\site-packages\\fiona\\__init__.py\u001b[0m in \u001b[0;36mopen\u001b[1;34m(fp, mode, driver, schema, crs, encoding, layer, vfs, enabled_drivers, crs_wkt, **kwargs)\u001b[0m\n\u001b[0;32m    255\u001b[0m         \u001b[1;32mif\u001b[0m \u001b[0mmode\u001b[0m \u001b[1;32min\u001b[0m \u001b[1;33m(\u001b[0m\u001b[1;34m'a'\u001b[0m\u001b[1;33m,\u001b[0m \u001b[1;34m'r'\u001b[0m\u001b[1;33m)\u001b[0m\u001b[1;33m:\u001b[0m\u001b[1;33m\u001b[0m\u001b[1;33m\u001b[0m\u001b[0m\n\u001b[0;32m    256\u001b[0m             c = Collection(path, mode, driver=driver, encoding=encoding,\n\u001b[1;32m--> 257\u001b[1;33m                            layer=layer, enabled_drivers=enabled_drivers, **kwargs)\n\u001b[0m\u001b[0;32m    258\u001b[0m         \u001b[1;32melif\u001b[0m \u001b[0mmode\u001b[0m \u001b[1;33m==\u001b[0m \u001b[1;34m'w'\u001b[0m\u001b[1;33m:\u001b[0m\u001b[1;33m\u001b[0m\u001b[1;33m\u001b[0m\u001b[0m\n\u001b[0;32m    259\u001b[0m             \u001b[1;32mif\u001b[0m \u001b[0mschema\u001b[0m\u001b[1;33m:\u001b[0m\u001b[1;33m\u001b[0m\u001b[1;33m\u001b[0m\u001b[0m\n",
      "\u001b[1;32mc:\\users\\ljw56\\anaconda3\\envs\\geo\\lib\\site-packages\\fiona\\collection.py\u001b[0m in \u001b[0;36m__init__\u001b[1;34m(self, path, mode, driver, schema, crs, encoding, layer, vsi, archive, enabled_drivers, crs_wkt, ignore_fields, ignore_geometry, **kwargs)\u001b[0m\n\u001b[0;32m    160\u001b[0m             \u001b[1;32mif\u001b[0m \u001b[0mself\u001b[0m\u001b[1;33m.\u001b[0m\u001b[0mmode\u001b[0m \u001b[1;33m==\u001b[0m \u001b[1;34m'r'\u001b[0m\u001b[1;33m:\u001b[0m\u001b[1;33m\u001b[0m\u001b[1;33m\u001b[0m\u001b[0m\n\u001b[0;32m    161\u001b[0m                 \u001b[0mself\u001b[0m\u001b[1;33m.\u001b[0m\u001b[0msession\u001b[0m \u001b[1;33m=\u001b[0m \u001b[0mSession\u001b[0m\u001b[1;33m(\u001b[0m\u001b[1;33m)\u001b[0m\u001b[1;33m\u001b[0m\u001b[1;33m\u001b[0m\u001b[0m\n\u001b[1;32m--> 162\u001b[1;33m                 \u001b[0mself\u001b[0m\u001b[1;33m.\u001b[0m\u001b[0msession\u001b[0m\u001b[1;33m.\u001b[0m\u001b[0mstart\u001b[0m\u001b[1;33m(\u001b[0m\u001b[0mself\u001b[0m\u001b[1;33m,\u001b[0m \u001b[1;33m**\u001b[0m\u001b[0mkwargs\u001b[0m\u001b[1;33m)\u001b[0m\u001b[1;33m\u001b[0m\u001b[1;33m\u001b[0m\u001b[0m\n\u001b[0m\u001b[0;32m    163\u001b[0m             \u001b[1;32melif\u001b[0m \u001b[0mself\u001b[0m\u001b[1;33m.\u001b[0m\u001b[0mmode\u001b[0m \u001b[1;32min\u001b[0m \u001b[1;33m(\u001b[0m\u001b[1;34m'a'\u001b[0m\u001b[1;33m,\u001b[0m \u001b[1;34m'w'\u001b[0m\u001b[1;33m)\u001b[0m\u001b[1;33m:\u001b[0m\u001b[1;33m\u001b[0m\u001b[1;33m\u001b[0m\u001b[0m\n\u001b[0;32m    164\u001b[0m                 \u001b[0mself\u001b[0m\u001b[1;33m.\u001b[0m\u001b[0msession\u001b[0m \u001b[1;33m=\u001b[0m \u001b[0mWritingSession\u001b[0m\u001b[1;33m(\u001b[0m\u001b[1;33m)\u001b[0m\u001b[1;33m\u001b[0m\u001b[1;33m\u001b[0m\u001b[0m\n",
      "\u001b[1;32mfiona/ogrext.pyx\u001b[0m in \u001b[0;36mfiona.ogrext.Session.start\u001b[1;34m()\u001b[0m\n",
      "\u001b[1;32mfiona/_shim.pyx\u001b[0m in \u001b[0;36mfiona._shim.gdal_open_vector\u001b[1;34m()\u001b[0m\n",
      "\u001b[1;31mDriverError\u001b[0m: data/child_count.geojson: No such file or directory"
     ]
    }
   ],
>>>>>>> 67fd30a935ab3e6fb89981a08a9868b45e95bd0a
   "source": [
    "#tab에서 찾기 편하게 모든 단어에 _count_ 붙음\n",
    "#refer_data 는 data_set['function name']\n",
    "#홍익선\n",
    "overspeed_cam_count_ = pd.read_csv('overspeed_cam.csv')\n",
    "floating_pop_count_ = pd.read_csv('floating_pop.csv')\n",
    "child_pedestrian_count_ = pd.read_csv('child_pedestrian.csv')\n",
    "bump_count_ = pd.read_csv('bump.csv')\n",
    "parking_count_ = pd.read_csv('parking.csv')\n",
    "parking_cctv_count_ = [parking_count_, pd.read_csv('parking_cctv.csv')]\n",
    "\n",
    "#조민주\n",
    "car_count_ = gpd.read_file(\"3.오산시_차량등록현황_격자.geojson\", encoding = \"utf-8\")\n",
    "child_count_ = gpd.read_file(\"child_count.geojson\", encoding = \"utf-8\")\n",
    "child_rate_count_ = gpd.read_file(\"child_rate.geojson\", encoding = \"utf-8\")\n",
    "elem_kinder_count_ = gpd.read_file(\"elem_kinder_count.csv\", encoding = \"utf-8\")\n",
    "isSchoolZone_count_ = pd.read_csv(\"9.오산시_어린이보호구역(re).csv\", encoding = \"utf-8\")\n",
    "numberSchoolZone_count_ = isSchoolZone_count_\n",
    "\n",
    "#심재훈\n",
    "accident_count_ = pd.read_csv(\"accident_count.csv\")\n",
    "chaos1_nearby_count_ = [gpd.read_file('23.오산시_상세도로망_LV6.geojson'),\n",
    "                 pd.read_csv('chaos1.csv')]\n",
    "width_nearby_count_ = gpd.read_file('23.오산시_상세도로망_LV6.geojson')\n",
    "cross_road_nearby_count_ = width_nearby_count_\n",
    "\n",
    "#이재훈\n",
    "num_cram_school_count_ = pd.read_csv(\"학원.csv\")\n",
    "shortest_cross_count_ = gpd.read_file(\"횡단보도.json\",encoding=\"utf-8\")\n",
    "shortest_traffic_signal_count_ = gpd.read_file('19.오산시_신호등.geojson',encoding=\"utf-8\")\n",
    "shortest_sidewalk_count_ =  gpd.read_file(\"인도.json\",encoding=\"utf-8\")\n",
    "\n",
    "\n",
    "data_set = {\n",
    "'overspeed_cam_count': overspeed_cam_count_,\n",
    "'floating_pop_count':floating_pop_count_,\n",
    "'child_pedestrian_count':child_pedestrian_count_,\n",
    "'bump_count':bump_count_,\n",
    "'parking_count':parking_count_,\n",
    "'parking_cctv_count':parking_cctv_count_,\n",
    "'car_count':car_count_,\n",
    "'child_count':child_count_,\n",
    "'child_rate_count':child_rate_count_,\n",
    "'elem_kinder_count':elem_kinder_count_,\n",
    "'isSchoolZone_count':isSchoolZone_count_,\n",
    "'numberSchoolZone_count':numberSchoolZone_count_,\n",
    "'accident_count':accident_count_,\n",
    "'chaos1_nearby_count':chaos1_nearby_count_,\n",
    "'width_nearby_count':width_nearby_count_,\n",
    "'cross_road_nearby_count':cross_road_nearby_count_,\n",
    "'num_cram_school_count':num_cram_school_count_,\n",
    "'shortest_cross_count':shortest_cross_count_,\n",
    "'shortest_traffic_signal_count':shortest_traffic_signal_count_,\n",
    "'shortest_sidewalk_count':shortest_sidewalk_count_,\n",
    "}"
   ]
  },
  {
   "cell_type": "code",
<<<<<<< HEAD
   "execution_count": 74,
   "id": "level-meditation",
=======
   "execution_count": 3,
>>>>>>> 67fd30a935ab3e6fb89981a08a9868b45e95bd0a
   "metadata": {},
   "outputs": [],
   "source": [
    "#tuple이 str으로 저장되는 문제\n",
    "def _str_to_tuple(string):\n",
    "  \"\"\"\n",
    "  input: multilinestring object\n",
    "  output: arr_cords; lon, lat\n",
    "  ex) multiline_to_arr_cords(road_gdf.loc[0].geometry)\n",
    "  \"\"\"\n",
    "  return re.findall(r'\\d+\\.\\d+',string)"
   ]
  },
  {
   "cell_type": "markdown",
<<<<<<< HEAD
   "id": "enabling-couple",
=======
>>>>>>> 67fd30a935ab3e6fb89981a08a9868b45e95bd0a
   "metadata": {},
   "source": [
    "## 홍익선"
   ]
  },
  {
   "cell_type": "markdown",
<<<<<<< HEAD
   "id": "described-quebec",
=======
>>>>>>> 67fd30a935ab3e6fb89981a08a9868b45e95bd0a
   "metadata": {},
   "source": [
    "## 1. 과속단속 카메라 개수"
   ]
  },
  {
   "cell_type": "code",
<<<<<<< HEAD
   "execution_count": 69,
   "id": "intended-joining",
=======
   "execution_count": 4,
>>>>>>> 67fd30a935ab3e6fb89981a08a9868b45e95bd0a
   "metadata": {},
   "outputs": [],
   "source": [
    "def overspeed_cam_count(lat, lon, radi, refer_data, idx=False):\n",
    "  \"\"\"\n",
    "  input: origin lat lon, radi(m)\n",
    "  output: following point count\n",
    "  optional: (idx of point, count)\n",
    "  \"\"\"\n",
    "  if (type(refer_data['geometry'][0]) == str):\n",
    "    refer_data['geometry'] = refer_data['geometry'].apply(_str_to_tuple)\n",
    "  #apply\n",
    "  bool_mask = refer_data['geometry'].apply(lambda x: geodesic((lat, lon),x).meters <= radi)\n",
    "  if idx:\n",
    "    return refer_data[bool_mask].index, sum(bool_mask)\n",
    "  else:\n",
    "    return sum(bool_mask)"
   ]
  },
  {
   "cell_type": "markdown",
<<<<<<< HEAD
   "id": "deluxe-israel",
=======
>>>>>>> 67fd30a935ab3e6fb89981a08a9868b45e95bd0a
   "metadata": {},
   "source": [
    "## 2. 유동인구 평균"
   ]
  },
  {
   "cell_type": "code",
<<<<<<< HEAD
   "execution_count": 71,
   "id": "swiss-stationery",
=======
   "execution_count": 5,
>>>>>>> 67fd30a935ab3e6fb89981a08a9868b45e95bd0a
   "metadata": {},
   "outputs": [],
   "source": [
    "def floating_pop_count(lat, lon, radi, refer_data, idx=False):\n",
    "  \"\"\"\n",
    "  input: origin lat lon, radi(km)\n",
    "  output: following point count\n",
    "  optional: (idx of point, count)\n",
    "  \"\"\"\n",
    "  if (type(refer_data['geometry'][0]) == str):\n",
    "    refer_data['geometry'] = refer_data['geometry'].apply(_str_to_tuple)\n",
    "  #apply\n",
    "  bool_mask = refer_data['geometry'].apply(lambda x: geodesic((lat, lon), x).m <= radi)\n",
    "  if idx:\n",
    "    return refer_data[bool_mask].index, refer_data['mean'][bool_mask].mean()\n",
    "  else:\n",
    "    return refer_data['mean'][bool_mask].mean()"
   ]
  },
  {
   "cell_type": "markdown",
<<<<<<< HEAD
   "id": "essential-monte",
=======
>>>>>>> 67fd30a935ab3e6fb89981a08a9868b45e95bd0a
   "metadata": {},
   "source": [
    "## 3. 법규위반"
   ]
  },
  {
   "cell_type": "code",
<<<<<<< HEAD
   "execution_count": 75,
   "id": "manual-simpson",
=======
   "execution_count": 6,
>>>>>>> 67fd30a935ab3e6fb89981a08a9868b45e95bd0a
   "metadata": {},
   "outputs": [],
   "source": [
    "#어린이 보행/자전거 전체 사고 횟수\n",
    "def child_pedestrian_count(lat, lon, radi, refer_data, typ = 'all', idx=False):\n",
    "  \"\"\"\n",
    "  input: origin lat lon, radi(m), typ\n",
    "  typ = 'all', '안전운전불이행','보행자보호의무위반', '신호위반'\n",
    "  \n",
    "  output: following point count\n",
    "  optional: (idx of point, count)\n",
    "  \"\"\"\n",
    "  if (type(refer_data['geometry'][0]) == str):\n",
    "    refer_data['geometry'] = refer_data['geometry'].apply(_str_to_tuple)\n",
    "  #apply\n",
    "  if typ != 'all':\n",
    "    refer_data = refer_data.loc[refer_data.법규위반==typ]\n",
    "  bool_mask = refer_data['geometry'].apply(lambda x: geodesic((lat, lon),x).meters <= radi)\n",
    "  if idx:\n",
    "    return refer_data[bool_mask].index, sum(bool_mask)\n",
    "  else:\n",
    "    return sum(bool_mask)"
   ]
  },
  {
   "cell_type": "markdown",
<<<<<<< HEAD
   "id": "personalized-aerospace",
=======
>>>>>>> 67fd30a935ab3e6fb89981a08a9868b45e95bd0a
   "metadata": {},
   "source": [
    "## 4. 과속방지턱"
   ]
  },
  {
   "cell_type": "code",
<<<<<<< HEAD
   "execution_count": 76,
   "id": "opposite-brush",
=======
   "execution_count": 7,
>>>>>>> 67fd30a935ab3e6fb89981a08a9868b45e95bd0a
   "metadata": {},
   "outputs": [],
   "source": [
    "def bump_count(lat, lon, radi, refer_data, idx = False):\n",
    "    if (type(refer_data['geometry'][0]) == str):\n",
    "        refer_data['geometry'] = refer_data['geometry'].apply(_str_to_tuple)\n",
    "    dist = refer_data[['index','geometry']].apply(lambda x: (geodesic((lat, lon), x[1]).m, x[0]), axis = 1)\n",
    "    dist = min(dist, key = lambda x :x[0])\n",
    "                                        \n",
    "    if idx:\n",
    "        return dist\n",
    "    else:\n",
    "        return dist[0]"
   ]
  },
  {
   "cell_type": "markdown",
<<<<<<< HEAD
   "id": "caroline-investment",
=======
>>>>>>> 67fd30a935ab3e6fb89981a08a9868b45e95bd0a
   "metadata": {},
   "source": [
    "## 5. 불법주정차"
   ]
  },
  {
   "cell_type": "code",
<<<<<<< HEAD
   "execution_count": 77,
   "id": "brutal-transport",
=======
   "execution_count": 8,
>>>>>>> 67fd30a935ab3e6fb89981a08a9868b45e95bd0a
   "metadata": {},
   "outputs": [],
   "source": [
    "def parking_count(lat, lon, radi, refer_data, idx=False):\n",
    "  \"\"\"\n",
    "  input: origin lat lon, radi(km)\n",
    "  output: following point count\n",
    "  optional: (idx of point, count)\n",
    "  \"\"\"\n",
    "  if (type(refer_data['geometry'][0]) == str):\n",
    "    refer_data['geometry'] = refer_data['geometry'].apply(_str_to_tuple)\n",
    "  #apply\n",
    "  bool_mask = refer_data['geometry'].apply(lambda x: geodesic((lat, lon),x).meters <= radi)\n",
    "  if idx:\n",
    "    return refer_data[bool_mask].index, sum(bool_mask)\n",
    "  else:\n",
    "    return sum(bool_mask)"
   ]
  },
  {
   "cell_type": "markdown",
<<<<<<< HEAD
   "id": "parallel-health",
=======
>>>>>>> 67fd30a935ab3e6fb89981a08a9868b45e95bd0a
   "metadata": {},
   "source": [
    "## 5-1. cctv 1개당 평균 불법주정차 단속 건수"
   ]
  },
  {
   "cell_type": "code",
<<<<<<< HEAD
   "execution_count": 97,
   "id": "purple-danish",
=======
   "execution_count": 9,
>>>>>>> 67fd30a935ab3e6fb89981a08a9868b45e95bd0a
   "metadata": {},
   "outputs": [],
   "source": [
    "def parking_cctv_count(lat, lon, radi, refer_data, idx=False):\n",
    "  \"\"\"\n",
    "  cctv 1개당 평균 불법주정차 단속 건수\n",
    "  input: origin lat lon, radi(km)\n",
    "  output: following point count\n",
    "  optional: (idx of point, count)\n",
    "  \"\"\"\n",
    "  refer_data1, refer_data2 = refer_data[0], refer_data[1]\n",
    "  if (type(refer_data1['geometry'][0]) == str):\n",
    "    refer_data1['geometry'] = refer_data1['geometry'].apply(_str_to_tuple)\n",
    "  if (type(refer_data2['geometry'][0]) == str):\n",
    "    refer_data2['geometry'] = refer_data2['geometry'].apply(_str_to_tuple)\n",
    "    \n",
    "    \n",
    "  #apply\n",
    "  bool_mask1 = refer_data1['geometry'].apply(lambda x: geodesic((lat, lon),x).meters <= radi)\n",
    "  bool_mask2 = refer_data2['geometry'].apply(lambda x: geodesic((lat, lon),x).meters <= radi)\n",
    "\n",
    "  if idx:\n",
    "    return refer_data1[bool_mask1].index, refer_data2[bool_mask2].index, sum(bool_mask1)/sum(bool_mask2)\n",
    "  else:\n",
    "    return sum(bool_mask1)/sum(bool_mask2)"
   ]
  },
  {
   "cell_type": "markdown",
<<<<<<< HEAD
   "id": "answering-dairy",
=======
>>>>>>> 67fd30a935ab3e6fb89981a08a9868b45e95bd0a
   "metadata": {},
   "source": [
    "## 조민주"
   ]
  },
  {
   "cell_type": "code",
   "execution_count": 10,
<<<<<<< HEAD
   "id": "single-former",
=======
>>>>>>> 67fd30a935ab3e6fb89981a08a9868b45e95bd0a
   "metadata": {},
   "outputs": [],
   "source": [
    "osan = (37.1623799231016, 127.05436890115905)"
   ]
  },
  {
   "cell_type": "code",
   "execution_count": 11,
<<<<<<< HEAD
   "id": "variable-egypt",
=======
>>>>>>> 67fd30a935ab3e6fb89981a08a9868b45e95bd0a
   "metadata": {},
   "outputs": [],
   "source": [
    "#from https://medium.com/analytics-vidhya/calculating-distances-from-points-to-polygon-borders-in-python-a-paris-example-3b597e1ea291\n",
    "def midpoint(a, b):\n",
    "    a_lat, a_lon = radians(a.latitude), radians(a.longitude)\n",
    "    b_lat, b_lon = radians(b.latitude), radians(b.longitude)\n",
    "    delta_lon = b_lon - a_lon\n",
    "    B_x = cos(b_lat) * cos(delta_lon)\n",
    "    B_y = cos(b_lat) * sin(delta_lon)\n",
    "    mid_lat = atan2(\n",
    "        sin(a_lat) + sin(b_lat),\n",
    "        sqrt(((cos(a_lat) + B_x) ** 2 + B_y ** 2))\n",
    "    )\n",
    "    mid_lon = a_lon + atan2(B_y, cos(a_lat) + B_x)\n",
    "    # Normalise\n",
    "    mid_lon = (mid_lon + 3 * pi) % (2 * pi) - pi\n",
    "\n",
    "    return Point(latitude=degrees(mid_lat), longitude=degrees(mid_lon))\n",
    "\n",
    "def get_line_midpoint(line):\n",
    "    a = Point(line[0])\n",
    "    b = Point(line[1])\n",
    "\n",
    "    return midpoint(a,b)\n",
    "\n",
    "\n",
    "def calculate_dist_to_line(line_a_lat, line_a_lng, line_b_lat, line_b_lng, point_object):\n",
    "    a = Point(latitude=line_a_lat, longitude=line_a_lng)\n",
    "    b = Point(latitude=line_b_lat, longitude=line_b_lng)\n",
    "    dist = distance(midpoint(a, b), point_object)\n",
    "    return dist\n",
    "\n",
    "\n",
    "def get_min_distance_to_arr(arr_coords, point_object, unit='m'):\n",
    "    min_dist = 999999\n",
    "    line=[]\n",
    "    for i, _ in enumerate(arr_coords):\n",
    "        if i + 1 < len(arr_coords):\n",
    "            dist = calculate_dist_to_line(\n",
    "                line_a_lat=arr_coords[i][1],\n",
    "                line_a_lng=arr_coords[i][0],\n",
    "                line_b_lat=arr_coords[i + 1][1],\n",
    "                line_b_lng=arr_coords[i + 1][0],\n",
    "                point_object=point_object\n",
    "            )\n",
    "            if dist < min_dist:\n",
    "                min_dist = dist\n",
    "                line = [(arr_coords[i][1], arr_coords[i][0]), (arr_coords[i + 1][1], arr_coords[i + 1][0])]\n",
    "        else:\n",
    "            dist = calculate_dist_to_line(\n",
    "                line_a_lat=arr_coords[i][1],\n",
    "                line_a_lng=arr_coords[i][0],\n",
    "                line_b_lat=arr_coords[0][1],\n",
    "                line_b_lng=arr_coords[0][0],\n",
    "                point_object=point_object\n",
    "            )\n",
    "            if dist < min_dist:\n",
    "                min_dist = dist\n",
    "                line = [(arr_coords[i][1], arr_coords[i][0]), (arr_coords[0][1], arr_coords[0][0])]\n",
    "\n",
    "    if unit == 'm':\n",
    "        return min_dist.m, line\n",
    "    elif unit == 'km':\n",
    "        return min_dist.km, line\n",
    "    else:\n",
    "        return min_dist, line\n",
    "    \n",
    "#additional interrial function\n",
    "def _multiline_to_arr_cords(mls):\n",
    "  \"\"\"\n",
    "  input: multilinestring object\n",
    "  output: arr_cords; lon, lat\n",
    "  ex) multiline_to_arr_cords(road_gdf.loc[0].geometry)\n",
    "  \"\"\"\n",
    "  arr_cords = []\n",
    "  lon_lat = re.findall(r'\\d+\\.\\d+',str(mls))\n",
    "  for i in range(0,len(lon_lat),2):\n",
    "    arr_cords.append((float(lon_lat[i]),float(lon_lat[i+1])))\n",
    "  return arr_cords\n",
    "\n",
    "#(lat, lon), (lon, lat) 자꾸 갈려서 나오네\n",
    "def _shPoint_to_list(shpoint):\n",
    "  c1, c2 = re.findall(r'\\d+\\.\\d+',str(shpoint))\n",
    "  if c1 < c2:\n",
    "    lon, lat = float(c1), float(c2)\n",
    "  else:\n",
    "    lat, lon = float(c1), float(c2)\n",
    "  return lat, lon\n",
    "\n",
    "def _list_to_gpPoint(mylist):\n",
    "  return Point(latitude=mylist[0], longitude=mylist[1])\n",
    "\n",
    "def _shPoint_to_gpPoint(shpoint):\n",
    "  mylist = _shPoint_to_list(shpoint)\n",
    "  return Point(latitude=mylist[0], longitude=mylist[1])"
   ]
  },
  {
   "cell_type": "code",
   "execution_count": 12,
<<<<<<< HEAD
   "id": "latest-elite",
=======
>>>>>>> 67fd30a935ab3e6fb89981a08a9868b45e95bd0a
   "metadata": {},
   "outputs": [],
   "source": [
    "def road_nearby(lat, lon, radi, data):\n",
    "  \"\"\"\n",
    "  input: origin lat lon, radi(m), data(shapely multilinestring)\n",
    "  change in type: shapely(Euclidian) -> list -> geopy(Great Circle)\n",
    "  #watchout for (lat lon), (lon lat)\n",
    "  output: following roads\n",
    "  \n",
    "  #test_set\n",
    "  lat, lon = (37.14875860564099, 127.0773701360968)\n",
    "  radi = 1\n",
    "  road_nearby(lat, lon, radi, road_gdf)\n",
    "  \"\"\"\n",
    "  road_gdf = data\n",
    "  dist_array = road_gdf.geometry.apply(lambda x: get_min_distance_to_arr(_multiline_to_arr_cords(x), _shPoint_to_gpPoint((lat, lon)), unit='m')[0])\n",
    "  return road_gdf.loc[dist_array < radi,:]"
   ]
  },
  {
   "cell_type": "markdown",
<<<<<<< HEAD
   "id": "chicken-christianity",
=======
>>>>>>> 67fd30a935ab3e6fb89981a08a9868b45e95bd0a
   "metadata": {},
   "source": [
    "## 2. 차랑등록현황"
   ]
  },
  {
   "cell_type": "code",
   "execution_count": 13,
<<<<<<< HEAD
   "id": "graphic-selling",
=======
>>>>>>> 67fd30a935ab3e6fb89981a08a9868b45e95bd0a
   "metadata": {},
   "outputs": [],
   "source": [
    "def car_count(lat, lon, radi, refer_data):\n",
    "    \"\"\"\n",
    "    default unit = 'm'\n",
    "    \"\"\"   \n",
    "    distance_arr = data.geometry.apply(lambda x : get_min_distance_to_arr\n",
    "                    (_multiline_to_arr_cords(x),\n",
    "                     _shPoint_to_gpPoint((lat, lon)), unit = 'm')[0])\n",
    "    sum_count = sum(refer_data[distance_arr <= radi][\"car_cnt\"])\n",
    "    return sum_count"
   ]
  },
  {
   "cell_type": "markdown",
<<<<<<< HEAD
   "id": "waiting-translator",
=======
>>>>>>> 67fd30a935ab3e6fb89981a08a9868b45e95bd0a
   "metadata": {},
   "source": [
    "## 3. 어린이 거주인구 "
   ]
  },
  {
   "cell_type": "code",
<<<<<<< HEAD
   "execution_count": 102,
   "id": "loving-candidate",
=======
   "execution_count": 14,
>>>>>>> 67fd30a935ab3e6fb89981a08a9868b45e95bd0a
   "metadata": {},
   "outputs": [],
   "source": [
    "def child_count(lat, lon, radi, refer_data):\n",
    "    refer_data.val[refer_data.val.isna()] = 0\n",
    "    distance_arr = refer_data.geometry.apply(lambda x : get_min_distance_to_arr\n",
    "                    (_multiline_to_arr_cords(x),\n",
    "                     _shPoint_to_gpPoint((lat, lon)), unit = 'm')[0])\n",
    "    sum_count = sum(refer_data[distance_arr <= radi][\"val\"])\n",
    "    return sum_count"
   ]
  },
  {
   "cell_type": "markdown",
<<<<<<< HEAD
   "id": "appointed-fruit",
=======
>>>>>>> 67fd30a935ab3e6fb89981a08a9868b45e95bd0a
   "metadata": {},
   "source": [
    "## 3.5 어린이 거주 비율 "
   ]
  },
  {
   "cell_type": "code",
<<<<<<< HEAD
   "execution_count": 105,
   "id": "characteristic-verification",
=======
   "execution_count": 15,
>>>>>>> 67fd30a935ab3e6fb89981a08a9868b45e95bd0a
   "metadata": {},
   "outputs": [],
   "source": [
    "def child_rate_count(lat, lon, radi, refer_data):\n",
    "    distance_arr = refer_data.geometry.apply(lambda x : get_min_distance_to_arr\n",
    "                    (_multiline_to_arr_cords(x),\n",
    "                     _shPoint_to_gpPoint((lat, lon)), unit = 'm')[0])\n",
    "    selected_data = refer_data[distance_arr <= radi]\n",
    "    child_rate = sum(selected_data[\"val\"])/sum(selected_data[\"total\"])\n",
    "    return child_rate"
   ]
  },
  {
   "cell_type": "markdown",
<<<<<<< HEAD
   "id": "ahead-recall",
=======
>>>>>>> 67fd30a935ab3e6fb89981a08a9868b45e95bd0a
   "metadata": {},
   "source": [
    "## 4. 주변 학교/어린이집 개수"
   ]
  },
  {
   "cell_type": "code",
   "execution_count": 16,
<<<<<<< HEAD
   "id": "increased-premium",
=======
>>>>>>> 67fd30a935ab3e6fb89981a08a9868b45e95bd0a
   "metadata": {},
   "outputs": [],
   "source": [
    "def elem_kinder_count(lat, lon, radi, refer_data, typ = 'all'):\n",
    "    \"\"\"\n",
    "    typ = 'all', '유치원과 어린이집', '초등학교'\n",
    "    \"\"\"\n",
    "    if typ != 'all':\n",
    "        refer_data = refer_data.loc[refer_data.시설구분==typ]\n",
    "    data_loc = pd.Series(list(zip(refer_data[\"시설위치_위도\"], refer_data[\"시설위치_경도\"])))\n",
    "    count_sum = data_loc.apply(lambda x: geodesic((lat, lon),x).m <= radi).sum()\n",
    "    return count_sum"
   ]
  },
  {
   "cell_type": "markdown",
<<<<<<< HEAD
   "id": "municipal-agency",
=======
>>>>>>> 67fd30a935ab3e6fb89981a08a9868b45e95bd0a
   "metadata": {},
   "source": [
    "## 5. 스쿨존 여부 : isSchoolZone(lat, lon, radi, refer_data)\n",
    "### 하지만 정확한 스쿨존 범위를 모름"
   ]
  },
  {
   "cell_type": "code",
   "execution_count": 17,
<<<<<<< HEAD
   "id": "revolutionary-option",
=======
>>>>>>> 67fd30a935ab3e6fb89981a08a9868b45e95bd0a
   "metadata": {},
   "outputs": [],
   "source": [
    "def isSchoolZone_count(lat, lon, radi, refer_data): # radi = 300 이지만 순서 통일을 위해 default값 지정 x\n",
    "    data_loc = pd.Series(list(zip(refer_data[\"보호구역_위도\"], refer_data[\"보호구역_경도\"])))\n",
    "    count_sum = data_loc.apply(lambda x: geodesic((lat, lon),x).m <= 300).sum()\n",
    "    return count_sum > 0"
   ]
  },
  {
   "cell_type": "markdown",
<<<<<<< HEAD
   "id": "brief-mistress",
=======
>>>>>>> 67fd30a935ab3e6fb89981a08a9868b45e95bd0a
   "metadata": {},
   "source": [
    "## 5.5 몇 개의 스쿨존에 포함되는지 : numberSchoolZone(lat, lon, radi, refer_data)\n",
    "### CCTV 배치에 도움이 될 수도..?"
   ]
  },
  {
   "cell_type": "code",
   "execution_count": 18,
<<<<<<< HEAD
   "id": "fantastic-dynamics",
=======
>>>>>>> 67fd30a935ab3e6fb89981a08a9868b45e95bd0a
   "metadata": {},
   "outputs": [],
   "source": [
    "def numberSchoolZone_count(lat, lon, radi, refer_data): # radi = 300 이지만 순서 통일을 위해 default값 지정 x\n",
    "    data_loc = pd.Series(list(zip(refer_data[\"보호구역_위도\"], refer_data[\"보호구역_경도\"])))\n",
    "    count_sum = data_loc.apply(lambda x: geodesic((lat, lon),x).m <= 300).sum()\n",
    "    return count_sum"
   ]
  },
  {
   "cell_type": "markdown",
<<<<<<< HEAD
   "id": "boxed-spray",
=======
>>>>>>> 67fd30a935ab3e6fb89981a08a9868b45e95bd0a
   "metadata": {},
   "source": [
    "## 심재훈"
   ]
  },
  {
   "cell_type": "markdown",
<<<<<<< HEAD
   "id": "ready-original",
=======
>>>>>>> 67fd30a935ab3e6fb89981a08a9868b45e95bd0a
   "metadata": {},
   "source": [
    "### accident_count"
   ]
  },
  {
   "cell_type": "code",
<<<<<<< HEAD
   "execution_count": 115,
   "id": "vocational-france",
=======
   "execution_count": 19,
>>>>>>> 67fd30a935ab3e6fb89981a08a9868b45e95bd0a
   "metadata": {},
   "outputs": [],
   "source": [
    "def accident_count(lat, lon, radi, refer_data, idx=False):\n",
    "  \"\"\"\n",
    "  input: origin lat lon, radi(m), data(accidents record)\n",
    "  output: following point count\n",
    "  optional: (idx of point, count)\n",
    "  \"\"\"\n",
    "\n",
    "  if (type(refer_data['geometry'][0]) == str):\n",
    "    refer_data['geometry'] = refer_data['geometry'].apply(_str_to_tuple)\n",
    "  #apply\n",
    "  bool_mask = refer_data['geometry'].apply(lambda x: geodesic((lat, lon),x).m <= radi)\n",
    "  if idx:\n",
    "    return refer_data[bool_mask].index, sum(bool_mask)\n",
    "  else:\n",
    "    return sum(bool_mask)"
   ]
  },
  {
   "cell_type": "code",
<<<<<<< HEAD
   "execution_count": 138,
   "id": "knowing-flash",
=======
   "execution_count": 20,
>>>>>>> 67fd30a935ab3e6fb89981a08a9868b45e95bd0a
   "metadata": {},
   "outputs": [],
   "source": [
    "def chaos1_nearby_count(lat, lon, radi, refer_data):\n",
    "  \"\"\"\n",
    "  input: origin lat lon, radi(m), road_data(shapely multilinestring), chaos1_data\n",
    "  output: following road's chaos1 by different times or lanes\n",
    "  \n",
    "  #test_set\n",
    "  lat, lon = (37.14875860564099, 127.0773701360968)\n",
    "  radi = 1\n",
    "  chaos1_nearby(lat, lon, radi, road_gdf, chaos1_gdf)[11]\n",
    "  #link_id 끝자리 01(상행) 02(하행) 순으로 나옴\n",
    "  평일 주말 총 평균값\n",
    "   \"\"\"\n",
    "  road_data, chaos1_data = refer_data[0], refer_data[1]\n",
    "  roads = road_nearby(lat, lon, radi, road_data)\n",
    "  result = roads.link_id.apply(lambda x: chaos1_data.loc[(chaos1_data.loc[:,'link_id']//100)==int(x),'chaos1'].mean())\n",
    "  return result\n",
    "\n",
    "def width_nearby_count(lat, lon, radi, road_data):\n",
    "  roads = road_nearby(lat, lon, radi, road_data)\n",
    "  return roads.width\n",
    "\n",
    "def cross_road_nearby_count(lat, lon, radi, road_data):\n",
    "  \"\"\"\n",
    "  4\t교차로 통로\n",
    "  32\t복합교차로\n",
    "  64\t로타리\n",
    "  128\t회전교차로\n",
    "\n",
    "  output = # of cross roads\n",
    "  \"\"\"\n",
    "  cross_roads = [4,32,64,128]\n",
    "  roads = road_nearby(lat, lon, radi, road_data)\n",
    "  result = roads.loc[roads.link_type.apply(lambda x: int(x) in cross_roads)]\n",
    "  return len(result)"
   ]
  },
  {
   "cell_type": "markdown",
<<<<<<< HEAD
   "id": "textile-corrections",
=======
>>>>>>> 67fd30a935ab3e6fb89981a08a9868b45e95bd0a
   "metadata": {},
   "source": [
    "## 이재훈"
   ]
  },
  {
   "cell_type": "markdown",
<<<<<<< HEAD
   "id": "breeding-basketball",
=======
>>>>>>> 67fd30a935ab3e6fb89981a08a9868b45e95bd0a
   "metadata": {},
   "source": [
    "### 주변 학원 개수"
   ]
  },
  {
   "cell_type": "code",
   "execution_count": 21,
<<<<<<< HEAD
   "id": "intense-landing",
=======
>>>>>>> 67fd30a935ab3e6fb89981a08a9868b45e95bd0a
   "metadata": {},
   "outputs": [],
   "source": [
    "def num_cram_school_count(lat, lon, radi, refer_data):\n",
    "    cram_school = pd.Series(list(zip(refer_data[\"시설위치_위도\"], refer_data[\"시설위치_경도\"])))\n",
    "    return cram_school.apply(lambda x: geodesic((lat, lon),x).m <= radi).sum()"
   ]
  },
  {
   "cell_type": "markdown",
<<<<<<< HEAD
   "id": "fleet-saturday",
=======
>>>>>>> 67fd30a935ab3e6fb89981a08a9868b45e95bd0a
   "metadata": {},
   "source": [
    "### 횡단보도 거리"
   ]
  },
  {
   "cell_type": "code",
   "execution_count": 22,
<<<<<<< HEAD
   "id": "sticky-norman",
=======
>>>>>>> 67fd30a935ab3e6fb89981a08a9868b45e95bd0a
   "metadata": {},
   "outputs": [],
   "source": [
    "#reproject 후 polygon 그대로\n",
    "def shortest_cross_count(lat, lon, radi, refer_data, idx = False):\n",
    "    polygon1 = reproject(Point(lon,lat), 'EPSG:4326', 'EPSG:26944')\n",
    "    result = refer_data[[\"OBJECTID\",\"geometry\"]].apply(lambda x : (x[1].distance(polygon1), x[0]), axis = 1)\n",
    "    result = min(result, key = lambda x :x[0])\n",
    "    if idx:\n",
    "        return result\n",
    "    return result[0]"
   ]
  },
  {
   "cell_type": "markdown",
<<<<<<< HEAD
   "id": "developed-looking",
=======
>>>>>>> 67fd30a935ab3e6fb89981a08a9868b45e95bd0a
   "metadata": {},
   "source": [
    "### 신호등 거리"
   ]
  },
  {
   "cell_type": "code",
   "execution_count": 23,
<<<<<<< HEAD
   "id": "major-karaoke",
=======
>>>>>>> 67fd30a935ab3e6fb89981a08a9868b45e95bd0a
   "metadata": {},
   "outputs": [],
   "source": [
    "def shortest_traffic_signal_count(lat, lon, radi, refer_data, idx = False):\n",
    "    result = refer_data[[\"OBJECTID\",\"geometry\"]].apply(lambda x : (geodesic((lat, lon),(x[1].y,x[1].x)).m, x[0]), axis = 1)\n",
    "    result = min(result, key = lambda x :x[0])\n",
    "    if idx:\n",
    "        return result\n",
    "    return result[0]"
   ]
  },
  {
   "cell_type": "markdown",
<<<<<<< HEAD
   "id": "convertible-edmonton",
=======
>>>>>>> 67fd30a935ab3e6fb89981a08a9868b45e95bd0a
   "metadata": {},
   "source": [
    "### 인도 여부"
   ]
  },
  {
   "cell_type": "code",
   "execution_count": 24,
<<<<<<< HEAD
   "id": "nearby-zoning",
=======
>>>>>>> 67fd30a935ab3e6fb89981a08a9868b45e95bd0a
   "metadata": {},
   "outputs": [],
   "source": [
    "def shortest_sidewalk_count(lat, lon, radi, refer_data):\n",
    "    polygon1 = reproject(Point(lon,lat), 'EPSG:4326', 'EPSG:26944')\n",
    "    result = refer_data[\"geometry\"].apply(lambda x : x.distance(polygon1))\n",
    "    result = min(result)\n",
    "    return result"
   ]
  }
 ],
 "metadata": {
  "hide_input": false,
  "kernelspec": {
   "display_name": "Python 3",
   "language": "python",
   "name": "python3"
  },
  "language_info": {
   "codemirror_mode": {
    "name": "ipython",
    "version": 3
   },
   "file_extension": ".py",
   "mimetype": "text/x-python",
   "name": "python",
   "nbconvert_exporter": "python",
   "pygments_lexer": "ipython3",
   "version": "3.6.12"
  },
  "toc": {
   "base_numbering": 1,
   "nav_menu": {},
   "number_sections": true,
   "sideBar": true,
   "skip_h1_title": false,
   "title_cell": "Table of Contents",
   "title_sidebar": "Contents",
   "toc_cell": false,
   "toc_position": {},
   "toc_section_display": true,
   "toc_window_display": false
  },
  "varInspector": {
   "cols": {
    "lenName": 16,
    "lenType": 16,
    "lenVar": 40
   },
   "kernels_config": {
    "python": {
     "delete_cmd_postfix": "",
     "delete_cmd_prefix": "del ",
     "library": "var_list.py",
     "varRefreshCmd": "print(var_dic_list())"
    },
    "r": {
     "delete_cmd_postfix": ") ",
     "delete_cmd_prefix": "rm(",
     "library": "var_list.r",
     "varRefreshCmd": "cat(var_dic_list()) "
    }
   },
   "types_to_exclude": [
    "module",
    "function",
    "builtin_function_or_method",
    "instance",
    "_Feature"
   ],
   "window_display": false
  }
 },
 "nbformat": 4,
 "nbformat_minor": 5
}
