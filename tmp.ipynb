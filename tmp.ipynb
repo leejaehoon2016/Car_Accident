{
 "cells": [
  {
   "cell_type": "code",
   "execution_count": 5,
   "metadata": {
    "ExecuteTime": {
     "end_time": "2021-01-27T06:16:10.717808Z",
     "start_time": "2021-01-27T06:16:10.209970Z"
    }
   },
   "outputs": [],
   "source": [
    "import pandas as pd\n",
    "from geopy.distance import geodesic"
   ]
  },
  {
   "cell_type": "code",
   "execution_count": 9,
   "metadata": {
    "ExecuteTime": {
     "end_time": "2021-01-27T06:16:58.238177Z",
     "start_time": "2021-01-27T06:16:58.220225Z"
    }
   },
   "outputs": [
    {
     "data": {
      "text/plain": [
       "0     2404.338698\n",
       "1     2555.385343\n",
       "2     2346.501237\n",
       "3     1961.734633\n",
       "4     2999.114511\n",
       "5     1955.665567\n",
       "6     2170.720290\n",
       "7     1494.790491\n",
       "8     1419.075927\n",
       "9     1264.238589\n",
       "10    1774.493642\n",
       "11    1843.233081\n",
       "12    1843.233081\n",
       "13    1853.423994\n",
       "14    2267.554377\n",
       "15    2755.293002\n",
       "16    2727.596806\n",
       "17    2277.554750\n",
       "18    2985.213130\n",
       "19    3043.535569\n",
       "20    3613.013110\n",
       "21    3300.128393\n",
       "22    3498.558438\n",
       "23    3399.853053\n",
       "24    3245.073340\n",
       "25    3370.959869\n",
       "26    6078.125656\n",
       "27    3687.982503\n",
       "28    3606.632840\n",
       "dtype: float64"
      ]
     },
     "execution_count": 9,
     "metadata": {},
     "output_type": "execute_result"
    }
   ],
   "source": [
    "df = pd.read_csv(\"data/original/18.오산시_과속방지턱표준데이터.csv\").iloc[:,-2:]\n",
    "\n",
    "a,b = 37.14566458729085,127.04920688438156\n",
    "df.apply(lambda x: geodesic((x[1],x[0]),(a,b)).m,axis=1)\n"
   ]
  }
 ],
 "metadata": {
  "hide_input": false,
  "kernelspec": {
   "display_name": "Python 3",
   "language": "python",
   "name": "python3"
  },
  "language_info": {
   "codemirror_mode": {
    "name": "ipython",
    "version": 3
   },
   "file_extension": ".py",
   "mimetype": "text/x-python",
   "name": "python",
   "nbconvert_exporter": "python",
   "pygments_lexer": "ipython3",
   "version": "3.6.12"
  },
  "toc": {
   "base_numbering": 1,
   "nav_menu": {},
   "number_sections": true,
   "sideBar": true,
   "skip_h1_title": false,
   "title_cell": "Table of Contents",
   "title_sidebar": "Contents",
   "toc_cell": false,
   "toc_position": {},
   "toc_section_display": true,
   "toc_window_display": false
  },
  "varInspector": {
   "cols": {
    "lenName": 16,
    "lenType": 16,
    "lenVar": 40
   },
   "kernels_config": {
    "python": {
     "delete_cmd_postfix": "",
     "delete_cmd_prefix": "del ",
     "library": "var_list.py",
     "varRefreshCmd": "print(var_dic_list())"
    },
    "r": {
     "delete_cmd_postfix": ") ",
     "delete_cmd_prefix": "rm(",
     "library": "var_list.r",
     "varRefreshCmd": "cat(var_dic_list()) "
    }
   },
   "types_to_exclude": [
    "module",
    "function",
    "builtin_function_or_method",
    "instance",
    "_Feature"
   ],
   "window_display": false
  }
 },
 "nbformat": 4,
 "nbformat_minor": 4
}
