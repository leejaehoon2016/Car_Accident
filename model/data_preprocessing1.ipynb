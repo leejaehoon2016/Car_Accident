{
 "cells": [
  {
   "cell_type": "code",
   "execution_count": 43,
   "metadata": {
    "ExecuteTime": {
     "end_time": "2021-01-22T07:07:00.379885Z",
     "start_time": "2021-01-22T07:07:00.376889Z"
    }
   },
   "outputs": [],
   "source": [
    "import pandas as pd\n",
    "from geopy.distance import geodesic\n",
    "from tqdm import tqdm\n",
    "import numpy as np"
   ]
  },
  {
   "cell_type": "raw",
   "metadata": {},
   "source": [
    "round 4하면 최대 거리차이 약 10m 인것 확인"
   ]
  },
  {
   "cell_type": "code",
   "execution_count": 44,
   "metadata": {
    "ExecuteTime": {
     "end_time": "2021-01-22T07:07:02.613984Z",
     "start_time": "2021-01-22T07:07:02.602015Z"
    }
   },
   "outputs": [
    {
     "data": {
      "text/plain": [
       "14.21574505645554"
      ]
     },
     "execution_count": 44,
     "metadata": {},
     "output_type": "execute_result"
    }
   ],
   "source": [
    "geodesic((37.1492, 127.0615),(37.149299999999999, 127.061599999999999)).m"
   ]
  },
  {
   "cell_type": "markdown",
   "metadata": {},
   "source": [
    "# 데이터 합치기 + 전처리\n",
    "1. 데이터 4개 합치기\n",
    "2. 25미터 각 지점간 상호 거리 계산\n",
    "3. 너무 가까운 지점 데이터 삭제\n",
    "4. 50미터 데이터 만들기"
   ]
  },
  {
   "cell_type": "code",
   "execution_count": 45,
   "metadata": {
    "ExecuteTime": {
     "end_time": "2021-01-22T07:07:04.793309Z",
     "start_time": "2021-01-22T07:07:04.748333Z"
    }
   },
   "outputs": [],
   "source": [
    "df1 = pd.read_csv(\"data/0_8856.csv\")\n",
    "df1 = df1[[i for i in df1.columns if \"chaos\" not in i and \n",
    "                                    \"width_nearby_count\" not in i and\n",
    "                                    \"cross_road_nearby_count\" not in i]]\n",
    "df2 = pd.read_csv(\"data/0_8856_barrier.csv\").iloc[:,2:]\n",
    "df3 = pd.read_csv(\"data/0_8856_fix.csv\").iloc[:,2:]\n",
    "data25 = pd.concat([df1,df2,df3],axis=1)\n",
    "# data25[[\"lon\", \"lat\"]].to_csv(\"data/learn_point25_index.csv\")"
   ]
  },
  {
   "cell_type": "code",
   "execution_count": 46,
   "metadata": {
    "ExecuteTime": {
     "end_time": "2021-01-22T07:07:06.940584Z",
     "start_time": "2021-01-22T07:07:06.927619Z"
    }
   },
   "outputs": [],
   "source": [
    "# index_df = pd.read_csv(\"data/learn_point25_index.csv\",index_col = 0)\n",
    "# dist_df = pd.DataFrame(0,index = list(range(len(index_df))),columns = list(range(len(index_df))))\n",
    "\n",
    "# for col in tqdm(range(1, len(index_df))):\n",
    "#     x = index_df.iloc[col]\n",
    "#     dist_df.iloc[:col,col] = index_df[:col].apply(lambda y: geodesic((y[1],y[0]),(x[1], x[0])).m, axis = 1)\n",
    "# dist_df[dist_df == 0] = dist_df.T\n",
    "# np.save(\"data/learn_point25_pairdist.npy\", dist_df.values.round(5))\n"
   ]
  },
  {
   "cell_type": "code",
   "execution_count": 47,
   "metadata": {
    "ExecuteTime": {
     "end_time": "2021-01-22T07:07:09.444772Z",
     "start_time": "2021-01-22T07:07:09.199691Z"
    }
   },
   "outputs": [],
   "source": [
    "pairdist = np.load(\"data/learn_point25_pairdist.npy\")\n",
    "pairdist[np.arange(len(pairdist)), np.arange(len(pairdist))] = float(\"inf\")\n",
    "\n",
    "na_index = data25[data25.isna().sum(axis=1) != 0].index\n",
    "\n",
    "pairdist[na_index,:] = float(\"inf\")\n",
    "pairdist[:,na_index] = float(\"inf\")"
   ]
  },
  {
   "cell_type": "code",
   "execution_count": 48,
   "metadata": {
    "ExecuteTime": {
     "end_time": "2021-01-22T07:07:12.131429Z",
     "start_time": "2021-01-22T07:07:11.776328Z"
    }
   },
   "outputs": [],
   "source": [
    "for i in na_index:\n",
    "    target_tmp = np.argmin(pairdist[i])\n",
    "    tmp = data25.loc[i].isna()\n",
    "    data25.loc[i, tmp] = data25.loc[target_tmp, tmp]"
   ]
  },
  {
   "cell_type": "code",
   "execution_count": 49,
   "metadata": {
    "ExecuteTime": {
     "end_time": "2021-01-22T07:07:14.560034Z",
     "start_time": "2021-01-22T07:07:14.422197Z"
    }
   },
   "outputs": [],
   "source": [
    "tmp25 = data25[[\"lon\",\"lat\"]].round(10).apply(lambda x: (x[0],x[1]) ,axis = 1)\n",
    "tmp50 = pd.read_csv(\"data/learn_point50.csv\")[[\"lon\",\"lat\"]].round(10).apply(lambda x: (x[0],x[1]) ,axis = 1)"
   ]
  },
  {
   "cell_type": "code",
   "execution_count": 50,
   "metadata": {
    "ExecuteTime": {
     "end_time": "2021-01-22T07:07:21.187442Z",
     "start_time": "2021-01-22T07:07:16.798994Z"
    }
   },
   "outputs": [],
   "source": [
    "value = []\n",
    "index = []\n",
    "for row in tmp50.values:\n",
    "    tmp = data25[tmp25 == tuple(row)]\n",
    "    if len(tmp) != 0:\n",
    "        value.append(tmp[:1].values)\n",
    "        index.append(list(tmp[:1].index)[0])\n",
    "    else:\n",
    "        print(row)\n",
    "data50 = pd.DataFrame(np.concatenate(value,axis=0),columns  = data25.columns, index = index)"
   ]
  },
  {
   "cell_type": "code",
   "execution_count": 51,
   "metadata": {
    "ExecuteTime": {
     "end_time": "2021-01-22T07:07:23.397203Z",
     "start_time": "2021-01-22T07:07:23.383240Z"
    }
   },
   "outputs": [],
   "source": [
    "data50 = data50.rename(columns = {'bump_count0' : \"shortest_bump_dist\",\n",
    "                                  'shortest_cross_count0' : \"shortest_cross_dist\",\n",
    "                                  'shortest_traffic_signal_count0' : \"shortest_traffic_signal_dist\", \n",
    "                                  'shortest_sidewalk_count0':'shortest_sidewalk_dist'})\n",
    "data25 = data25.rename(columns = {'bump_count0' : \"shortest_bump_dist\",\n",
    "                                  'shortest_cross_count0' : \"shortest_cross_dist\",\n",
    "                                  'shortest_traffic_signal_count0' : \"shortest_traffic_signal_dist\", \n",
    "                                  'shortest_sidewalk_count0':'shortest_sidewalk_dist'})\n"
   ]
  },
  {
   "cell_type": "code",
   "execution_count": 52,
   "metadata": {
    "ExecuteTime": {
     "end_time": "2021-01-22T07:07:25.559404Z",
     "start_time": "2021-01-22T07:07:25.548432Z"
    }
   },
   "outputs": [],
   "source": [
    "data25 = data25[~(data25[[\"lon\",\"lat\"]] * 10000).astype(int).duplicated()].reset_index(drop=True)\n",
    "data50 = data50[~(data50[[\"lon\",\"lat\"]] * 10000).astype(int).duplicated()].reset_index(drop=True)"
   ]
  },
  {
   "cell_type": "code",
   "execution_count": 53,
   "metadata": {
    "ExecuteTime": {
     "end_time": "2021-01-22T07:07:27.737241Z",
     "start_time": "2021-01-22T07:07:27.722524Z"
    }
   },
   "outputs": [],
   "source": [
    "data25 = data25[~data25[[\"lon\",\"lat\"]].round(4).duplicated()].reset_index(drop=True)\n",
    "data50 = data50[~data50[[\"lon\",\"lat\"]].round(4).duplicated()].reset_index(drop=True)\n"
   ]
  },
  {
   "cell_type": "code",
   "execution_count": 54,
   "metadata": {
    "ExecuteTime": {
     "end_time": "2021-01-22T07:07:30.134242Z",
     "start_time": "2021-01-22T07:07:29.905166Z"
    }
   },
   "outputs": [],
   "source": [
    "data25.to_csv(\"data/feature25.csv\",index=False)\n",
    "data50.to_csv(\"data/feature50.csv\",index=False)"
   ]
  },
  {
   "cell_type": "code",
   "execution_count": null,
   "metadata": {},
   "outputs": [],
   "source": []
  }
 ],
 "metadata": {
  "hide_input": false,
  "kernelspec": {
   "display_name": "Python 3",
   "language": "python",
   "name": "python3"
  },
  "language_info": {
   "codemirror_mode": {
    "name": "ipython",
    "version": 3
   },
   "file_extension": ".py",
   "mimetype": "text/x-python",
   "name": "python",
   "nbconvert_exporter": "python",
   "pygments_lexer": "ipython3",
   "version": "3.6.12"
  },
  "toc": {
   "base_numbering": 1,
   "nav_menu": {},
   "number_sections": true,
   "sideBar": true,
   "skip_h1_title": false,
   "title_cell": "Table of Contents",
   "title_sidebar": "Contents",
   "toc_cell": false,
   "toc_position": {},
   "toc_section_display": true,
   "toc_window_display": false
  },
  "varInspector": {
   "cols": {
    "lenName": 16,
    "lenType": 16,
    "lenVar": 40
   },
   "kernels_config": {
    "python": {
     "delete_cmd_postfix": "",
     "delete_cmd_prefix": "del ",
     "library": "var_list.py",
     "varRefreshCmd": "print(var_dic_list())"
    },
    "r": {
     "delete_cmd_postfix": ") ",
     "delete_cmd_prefix": "rm(",
     "library": "var_list.r",
     "varRefreshCmd": "cat(var_dic_list()) "
    }
   },
   "types_to_exclude": [
    "module",
    "function",
    "builtin_function_or_method",
    "instance",
    "_Feature"
   ],
   "window_display": false
  }
 },
 "nbformat": 4,
 "nbformat_minor": 4
}
