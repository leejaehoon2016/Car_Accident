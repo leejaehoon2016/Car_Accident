{
 "cells": [
  {
   "cell_type": "code",
   "execution_count": 148,
   "metadata": {
    "ExecuteTime": {
     "end_time": "2021-01-22T09:14:24.825945Z",
     "start_time": "2021-01-22T09:14:24.821955Z"
    }
   },
   "outputs": [],
   "source": [
    "import pandas as pd\n",
    "import folium\n",
    "from folium import plugins\n",
    "import geopandas as gpd\n",
    "center = (37.1623799231016, 127.05436890115905)"
   ]
  },
  {
   "cell_type": "code",
   "execution_count": 149,
   "metadata": {
    "ExecuteTime": {
     "end_time": "2021-01-22T09:14:25.011237Z",
     "start_time": "2021-01-22T09:14:24.968456Z"
    }
   },
   "outputs": [],
   "source": [
    "data25 = pd.read_csv(\"data/feature25.csv\")\n",
    "data50 = pd.read_csv(\"data/feature50.csv\")"
   ]
  },
  {
   "cell_type": "markdown",
   "metadata": {},
   "source": [
    "# 선정 지점 시각화"
   ]
  },
  {
   "cell_type": "code",
   "execution_count": 150,
   "metadata": {
    "ExecuteTime": {
     "end_time": "2021-01-22T09:14:25.150865Z",
     "start_time": "2021-01-22T09:14:25.136902Z"
    }
   },
   "outputs": [],
   "source": [
    "def draw_map(point_data):\n",
    "    # map\n",
    "    map1 = folium.Map(location=center, zoom_start=13, control_scale=True)\n",
    "\n",
    "    # all subgroups\n",
    "    all_subgroups = folium.FeatureGroup(name='all_thing')\n",
    "    map1.add_child(all_subgroups)\n",
    "\n",
    "    #osan\n",
    "    osan_region = plugins.FeatureGroupSubGroup(all_subgroups, 'osan region')\n",
    "    map1.add_child(osan_region)\n",
    "    osan = gpd.read_file('../data/original/33.오산시_법정경계(읍면동).geojson',encoding=\"utf-8\")\n",
    "    folium.GeoJson(osan, style_function=lambda x:{'fillColor': 'transparent', 'color': 'grey'}).add_to(osan_region)\n",
    "\n",
    "    road_data = gpd.read_file('../data/original/23.오산시_상세도로망_LV6.geojson',encoding=\"utf-8\")\n",
    "    road_data = road_data[road_data[\"road_name\"].apply(lambda x: \"고속도로\" not in str(x))].reset_index(drop = True)\n",
    "    road = plugins.FeatureGroupSubGroup(all_subgroups, 'road')\n",
    "    map1.add_child(road)\n",
    "    folium.GeoJson(road_data, style_function=lambda x:{'fillColor': 'transparent', \"weight\": int(x[\"properties\"][\"width\"]) ** 1.5 / 2, 'color': 'black'}).add_to(road)\n",
    "\n",
    "    # point\n",
    "    check_point = plugins.FeatureGroupSubGroup(all_subgroups, 'check_point')\n",
    "    map1.add_child(check_point)\n",
    "    for i in range(0, len(point_data)):\n",
    "        folium.Circle(\n",
    "            location = [point_data.loc[i,\"lat\"],\n",
    "                        point_data.loc[i,\"lon\"]],\n",
    "            radius = 1,\n",
    "            color = \"red\",\n",
    "            fillColor = \"red\",\n",
    "            tooltip=str((point_data.loc[i,\"lon\"], point_data.loc[i,\"lat\"])),\n",
    "        ).add_to(check_point)\n",
    "        folium.Circle(\n",
    "            location = [point_data.loc[i,\"lat\"],\n",
    "                        point_data.loc[i,\"lon\"]],\n",
    "            radius = 25,\n",
    "            color = \"red\",\n",
    "            fillColor = \"red\",\n",
    "            tooltip=str((point_data.loc[i,\"lon\"], point_data.loc[i,\"lat\"])),\n",
    "        ).add_to(check_point)\n",
    "\n",
    "    folium.LayerControl(collapsed=False).add_to(map1)\n",
    "    return map1\n"
   ]
  },
  {
   "cell_type": "code",
   "execution_count": 151,
   "metadata": {
    "ExecuteTime": {
     "end_time": "2021-01-22T09:14:25.335372Z",
     "start_time": "2021-01-22T09:14:25.321409Z"
    }
   },
   "outputs": [],
   "source": [
    "# draw_map(data50)"
   ]
  },
  {
   "cell_type": "markdown",
   "metadata": {},
   "source": [
    "# 회귀, 분류 분석"
   ]
  },
  {
   "cell_type": "code",
   "execution_count": 152,
   "metadata": {
    "ExecuteTime": {
     "end_time": "2021-01-22T09:14:25.518880Z",
     "start_time": "2021-01-22T09:14:25.490955Z"
    }
   },
   "outputs": [],
   "source": [
    "data25['is_bump20'] = data25['shortest_bump_dist'] < 20\n",
    "data50['is_bump40'] = data50['shortest_bump_dist'] < 40\n",
    "\n",
    "data25['is_sidewalk12.5'] = data25['shortest_sidewalk_dist'] < 12.5\n",
    "data50['is_sidewalk25'] = data50['shortest_sidewalk_dist'] < 25\n",
    "\n",
    "col = {\"x_common\": ['overspeed_cam_count100', 'floating_pop_count50','car_count1000', 'child_count1000', \n",
    "                  'elem_kinder_count400','numberSchoolZone_count400','num_cram_school_count400', \n",
    "                  'shortest_cross_dist','shortest_traffic_signal_dist',],\n",
    "       \"x_25\" : ['is_bump20', 'parking_count12.5','is_sidewalk12.5', 'barrier_nearby_count12.5',\n",
    "                   'chaos1_nearby_count12.5', 'width_nearby_count12.5','cross_road_nearby_count12.5',\n",
    "                   ],\n",
    "       \"x_50\" : ['is_bump40', 'parking_count25','is_sidewalk25', 'barrier_nearby_count25',\n",
    "                   'chaos1_nearby_count25', 'width_nearby_count25','cross_road_nearby_count25'],\n",
    "       \"y_25\" : 'accident_count12.5',\n",
    "       \"y_50\" : 'accident_count25',}"
   ]
  },
  {
   "cell_type": "markdown",
   "metadata": {},
   "source": [
    "## 회귀"
   ]
  },
  {
   "cell_type": "markdown",
   "metadata": {},
   "source": [
    "### x,y데이터 준비"
   ]
  },
  {
   "cell_type": "code",
   "execution_count": 153,
   "metadata": {
    "ExecuteTime": {
     "end_time": "2021-01-22T09:14:26.154123Z",
     "start_time": "2021-01-22T09:14:26.133178Z"
    }
   },
   "outputs": [],
   "source": [
    "xy25 = data25[col[\"x_common\"] + col[\"x_25\"] +[col['y_25']]].astype(float)\n",
    "xy50 = data50[col[\"x_common\"] + col[\"x_50\"] +[col['y_50']]].astype(float)\n",
    "\n",
    "from sklearn.preprocessing import StandardScaler, MinMaxScaler\n",
    "# fit_transform -> 한꺼번에 가능\n",
    "scaler = MinMaxScaler()\n",
    "xy50.loc[:,:] = scaler.fit_transform(xy50)\n",
    "xy25.loc[:,:] = scaler.transform(xy25)\n",
    "\n",
    "x50, y50 = xy50.iloc[:,:-1], xy50.iloc[:,-1]\n",
    "x25, y25 = xy25.iloc[:,:-1], xy25.iloc[:,-1]\n"
   ]
  },
  {
   "cell_type": "markdown",
   "metadata": {},
   "source": [
    "### Linear Regression"
   ]
  },
  {
   "cell_type": "code",
   "execution_count": 158,
   "metadata": {
    "ExecuteTime": {
     "end_time": "2021-01-22T09:15:31.553830Z",
     "start_time": "2021-01-22T09:15:31.538871Z"
    }
   },
   "outputs": [
    {
     "data": {
      "text/plain": [
       "-0.09025494115918864"
      ]
     },
     "execution_count": 158,
     "metadata": {},
     "output_type": "execute_result"
    }
   ],
   "source": [
    "from sklearn.linear_model import LinearRegression\n",
    "lr = LinearRegression(normalize=True)\n",
    "lr.fit(x50, y50)\n",
    "lr.score(x25, y25)"
   ]
  },
  {
   "cell_type": "markdown",
   "metadata": {},
   "source": [
    "### RandomForestRegressor"
   ]
  },
  {
   "cell_type": "code",
   "execution_count": 159,
   "metadata": {
    "ExecuteTime": {
     "end_time": "2021-01-22T09:15:39.781031Z",
     "start_time": "2021-01-22T09:15:38.096536Z"
    }
   },
   "outputs": [
    {
     "data": {
      "text/plain": [
       "-0.24310898963642402"
      ]
     },
     "execution_count": 159,
     "metadata": {},
     "output_type": "execute_result"
    }
   ],
   "source": [
    "from sklearn.ensemble import RandomForestRegressor\n",
    "from sklearn.model_selection import RandomizedSearchCV\n",
    "rf = RandomForestRegressor()\n",
    "rf.fit(x50, y50)\n",
    "rf.score(x25, y25)"
   ]
  },
  {
   "cell_type": "markdown",
   "metadata": {},
   "source": [
    "## classification\n"
   ]
  },
  {
   "cell_type": "markdown",
   "metadata": {},
   "source": [
    "### x,y데이터 준비"
   ]
  },
  {
   "cell_type": "code",
   "execution_count": 178,
   "metadata": {
    "ExecuteTime": {
     "end_time": "2021-01-22T09:19:51.655983Z",
     "start_time": "2021-01-22T09:19:51.632015Z"
    }
   },
   "outputs": [],
   "source": [
    "xy25 = data25[col[\"x_common\"] + col[\"x_25\"] +[col['y_25']]].astype(float)\n",
    "xy50 = data50[col[\"x_common\"] + col[\"x_50\"] +[col['y_50']]].astype(float)\n",
    "xy25[col['y_25']] = (xy25[col['y_25']] > 1).astype(float)\n",
    "xy50[col['y_50']] = (xy50[col['y_50']] > 1).astype(float)\n",
    "\n",
    "from sklearn.preprocessing import StandardScaler, MinMaxScaler\n",
    "# fit_transform -> 한꺼번에 가능\n",
    "scaler = MinMaxScaler()\n",
    "xy50.loc[:,:] = scaler.fit_transform(xy50)\n",
    "xy25.loc[:,:] = scaler.transform(xy25)\n",
    "\n",
    "\n",
    "x50, y50 = xy50.iloc[:,:-1], xy50.iloc[:,-1]\n",
    "x25, y25 = xy25.iloc[:,:-1], xy25.iloc[:,-1]\n"
   ]
  },
  {
   "cell_type": "code",
   "execution_count": 179,
   "metadata": {
    "ExecuteTime": {
     "end_time": "2021-01-22T09:19:51.825836Z",
     "start_time": "2021-01-22T09:19:51.809843Z"
    }
   },
   "outputs": [],
   "source": [
    "from sklearn.ensemble import RandomForestClassifier\n",
    "from sklearn.linear_model import LogisticRegression"
   ]
  },
  {
   "cell_type": "code",
   "execution_count": 180,
   "metadata": {
    "ExecuteTime": {
     "end_time": "2021-01-22T09:19:52.118121Z",
     "start_time": "2021-01-22T09:19:52.094185Z"
    },
    "scrolled": true
   },
   "outputs": [
    {
     "data": {
      "text/plain": [
       "0.9900306748466258"
      ]
     },
     "execution_count": 180,
     "metadata": {},
     "output_type": "execute_result"
    }
   ],
   "source": [
    "rf = RandomForestClassifier()\n",
    "rf = LogisticRegression(max_iter = 1000)\n",
    "rf.fit(x50, y50)\n",
    "rf.score(x50, y50)\n"
   ]
  },
  {
   "cell_type": "code",
   "execution_count": 181,
   "metadata": {
    "ExecuteTime": {
     "end_time": "2021-01-22T09:19:53.031029Z",
     "start_time": "2021-01-22T09:19:53.020059Z"
    },
    "scrolled": true
   },
   "outputs": [
    {
     "data": {
      "text/plain": [
       "[('overspeed_cam_count100', 0.6125919910937541),\n",
       " ('floating_pop_count50', 1.0187668516245527),\n",
       " ('car_count1000', -0.10867463389288161),\n",
       " ('child_count1000', -0.37865344501889603),\n",
       " ('elem_kinder_count400', 2.1246793058962012),\n",
       " ('numberSchoolZone_count400', 0.4670634215170662),\n",
       " ('num_cram_school_count400', 1.5594099353069637),\n",
       " ('shortest_cross_dist', -0.8119145826177833),\n",
       " ('shortest_traffic_signal_dist', -0.7999288014223602),\n",
       " ('is_bump20', -0.31145057102441903),\n",
       " ('parking_count12.5', 1.1007610248765614),\n",
       " ('is_sidewalk12.5', 0.6836415346755382),\n",
       " ('barrier_nearby_count12.5', -0.029950565790325692),\n",
       " ('chaos1_nearby_count12.5', 1.5054667043925631),\n",
       " ('width_nearby_count12.5', 0.45808994615872856),\n",
       " ('cross_road_nearby_count12.5', 0.9105081930168608)]"
      ]
     },
     "execution_count": 181,
     "metadata": {},
     "output_type": "execute_result"
    }
   ],
   "source": [
    "list(zip(list(x25.columns),rf.coef_[0]))"
   ]
  },
  {
   "cell_type": "markdown",
   "metadata": {},
   "source": [
    "# 클러스터링"
   ]
  },
  {
   "cell_type": "code",
   "execution_count": 176,
   "metadata": {
    "ExecuteTime": {
     "end_time": "2021-01-22T09:19:43.070403Z",
     "start_time": "2021-01-22T09:19:43.048460Z"
    }
   },
   "outputs": [],
   "source": [
    "xy25 = data25[col[\"x_common\"] + col[\"x_25\"] +[col['y_25']]].astype(float)\n",
    "xy50 = data50[col[\"x_common\"] + col[\"x_50\"] +[col['y_50']]].astype(float)\n",
    "xy25[col['y_25']] = (xy25[col['y_25']] > 1).astype(float)\n",
    "xy50[col['y_50']] = (xy50[col['y_50']] > 1).astype(float)\n",
    "from sklearn.preprocessing import StandardScaler, MinMaxScaler\n",
    "# fit_transform -> 한꺼번에 가능\n",
    "scaler = MinMaxScaler()\n",
    "xy50.loc[:,:] = scaler.fit_transform(xy50)\n",
    "xy25.loc[:,:] = scaler.transform(xy25)"
   ]
  },
  {
   "cell_type": "code",
   "execution_count": 218,
   "metadata": {
    "ExecuteTime": {
     "end_time": "2021-01-22T09:27:01.321080Z",
     "start_time": "2021-01-22T09:27:00.397515Z"
    }
   },
   "outputs": [
    {
     "data": {
      "text/plain": [
       "0.3624818296697029"
      ]
     },
     "execution_count": 218,
     "metadata": {},
     "output_type": "execute_result"
    }
   ],
   "source": [
    "from sklearn.cluster import KMeans\n",
    "from sklearn.metrics import silhouette_score\n",
    "kmeans = KMeans(n_clusters=4, random_state=None, max_iter= 10000).fit(xy25)\n",
    "\n",
    "silhouette_score(xy25, kmeans.predict(xy25))"
   ]
  },
  {
   "cell_type": "code",
   "execution_count": null,
   "metadata": {
    "ExecuteTime": {
     "start_time": "2021-01-22T09:27:26.741Z"
    }
   },
   "outputs": [],
   "source": [
    "from sklearn.cluster import AffinityPropagation\n",
    "clustering = AffinityPropagation(random_state=5).fit(xy25)\n",
    "silhouette_score(xy25, clustering.labels_)"
   ]
  }
 ],
 "metadata": {
  "hide_input": false,
  "kernelspec": {
   "display_name": "Python 3",
   "language": "python",
   "name": "python3"
  },
  "language_info": {
   "codemirror_mode": {
    "name": "ipython",
    "version": 3
   },
   "file_extension": ".py",
   "mimetype": "text/x-python",
   "name": "python",
   "nbconvert_exporter": "python",
   "pygments_lexer": "ipython3",
   "version": "3.6.12"
  },
  "toc": {
   "base_numbering": 1,
   "nav_menu": {},
   "number_sections": true,
   "sideBar": true,
   "skip_h1_title": false,
   "title_cell": "Table of Contents",
   "title_sidebar": "Contents",
   "toc_cell": false,
   "toc_position": {},
   "toc_section_display": true,
   "toc_window_display": false
  },
  "varInspector": {
   "cols": {
    "lenName": 16,
    "lenType": 16,
    "lenVar": 40
   },
   "kernels_config": {
    "python": {
     "delete_cmd_postfix": "",
     "delete_cmd_prefix": "del ",
     "library": "var_list.py",
     "varRefreshCmd": "print(var_dic_list())"
    },
    "r": {
     "delete_cmd_postfix": ") ",
     "delete_cmd_prefix": "rm(",
     "library": "var_list.r",
     "varRefreshCmd": "cat(var_dic_list()) "
    }
   },
   "types_to_exclude": [
    "module",
    "function",
    "builtin_function_or_method",
    "instance",
    "_Feature"
   ],
   "window_display": false
  }
 },
 "nbformat": 4,
 "nbformat_minor": 4
}
