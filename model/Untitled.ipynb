{
 "cells": [
  {
   "cell_type": "code",
   "execution_count": 1,
   "metadata": {
    "ExecuteTime": {
     "end_time": "2021-01-21T06:11:51.036341Z",
     "start_time": "2021-01-21T06:11:50.717351Z"
    }
   },
   "outputs": [],
   "source": [
    "import pandas as pd"
   ]
  },
  {
   "cell_type": "code",
   "execution_count": 9,
   "metadata": {
    "ExecuteTime": {
     "end_time": "2021-01-21T06:13:42.242867Z",
     "start_time": "2021-01-21T06:13:42.220929Z"
    }
   },
   "outputs": [
    {
     "data": {
      "text/plain": [
       "lon                                0\n",
       "lat                                0\n",
       "overspeed_cam_count100             0\n",
       "floating_pop_count50               4\n",
       "shortest_bump_dist                 0\n",
       "parking_count12.5                  0\n",
       "parking_count25                    0\n",
       "car_count1000                      0\n",
       "child_count1000                    0\n",
       "elem_kinder_count400               0\n",
       "numberSchoolZone_count400          0\n",
       "accident_count12.5                 0\n",
       "accident_count25                   0\n",
       "chaos1_nearby_count12.5         1953\n",
       "chaos1_nearby_count25            884\n",
       "chaos1_nearby_count50            221\n",
       "width_nearby_count12.5          1894\n",
       "width_nearby_count25             797\n",
       "cross_road_nearby_count12.5        0\n",
       "cross_road_nearby_count25          0\n",
       "num_cram_school_count400           0\n",
       "shortest_cross_dist                0\n",
       "shortest_traffic_signal_dist       0\n",
       "shortest_sidewalk_dist             0\n",
       "dtype: int64"
      ]
     },
     "execution_count": 9,
     "metadata": {},
     "output_type": "execute_result"
    }
   ],
   "source": []
  }
 ],
 "metadata": {
  "hide_input": false,
  "kernelspec": {
   "display_name": "Python 3",
   "language": "python",
   "name": "python3"
  },
  "language_info": {
   "codemirror_mode": {
    "name": "ipython",
    "version": 3
   },
   "file_extension": ".py",
   "mimetype": "text/x-python",
   "name": "python",
   "nbconvert_exporter": "python",
   "pygments_lexer": "ipython3",
   "version": "3.6.12"
  },
  "toc": {
   "base_numbering": 1,
   "nav_menu": {},
   "number_sections": true,
   "sideBar": true,
   "skip_h1_title": false,
   "title_cell": "Table of Contents",
   "title_sidebar": "Contents",
   "toc_cell": false,
   "toc_position": {},
   "toc_section_display": true,
   "toc_window_display": false
  },
  "varInspector": {
   "cols": {
    "lenName": 16,
    "lenType": 16,
    "lenVar": 40
   },
   "kernels_config": {
    "python": {
     "delete_cmd_postfix": "",
     "delete_cmd_prefix": "del ",
     "library": "var_list.py",
     "varRefreshCmd": "print(var_dic_list())"
    },
    "r": {
     "delete_cmd_postfix": ") ",
     "delete_cmd_prefix": "rm(",
     "library": "var_list.r",
     "varRefreshCmd": "cat(var_dic_list()) "
    }
   },
   "types_to_exclude": [
    "module",
    "function",
    "builtin_function_or_method",
    "instance",
    "_Feature"
   ],
   "window_display": false
  }
 },
 "nbformat": 4,
 "nbformat_minor": 4
}
